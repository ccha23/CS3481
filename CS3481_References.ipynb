{
  "nbformat": 4,
  "nbformat_minor": 0,
  "metadata": {
    "colab": {
      "name": "CS3481 References",
      "provenance": []
    },
    "kernelspec": {
      "name": "python3",
      "display_name": "Python 3"
    }
  },
  "cells": [
    {
      "cell_type": "markdown",
      "metadata": {
        "id": "A5kU-xkfRzka",
        "colab_type": "text"
      },
      "source": [
        "# References"
      ]
    },
    {
      "cell_type": "markdown",
      "metadata": {
        "id": "6HDzBlCqVQUC",
        "colab_type": "text"
      },
      "source": [
        "## Books or websites"
      ]
    },
    {
      "cell_type": "markdown",
      "metadata": {
        "id": "TEqQDe3eTol-",
        "colab_type": "text"
      },
      "source": [
        "- [Hastie T., Tibshirani R. and Friedman J. The Elements of\n",
        "  Statistical Learning, 2nd Ed., Springer (2009).](https://web.stanford.edu/~hastie/ElemStatLearn)"
      ]
    },
    {
      "cell_type": "markdown",
      "metadata": {
        "id": "kll3K8O8S3lu",
        "colab_type": "text"
      },
      "source": [
        "- [Google machine learning crash course](https://developers.google.com/machine-learning/crash-course)"
      ]
    },
    {
      "cell_type": "markdown",
      "metadata": {
        "id": "zswsnWYnfO_U",
        "colab_type": "text"
      },
      "source": [
        "- Courses from Lynda.com (sign in with your CityU email address)\n",
        "  - [Master Python for Data Science](https://www.linkedin.com/learning/paths/master-python-for-data-science)\n",
        "  - [Python for Data Visualization](https://www.linkedin.com/learning/python-for-data-visualization)\n",
        "  - Other related courses not directly related to data science:\n",
        "    - [Python for Students](https://www.linkedin.com/learning/python-for-students)\n",
        "    - [Visual Studio Code Productivity Tips](https://www.linkedin.com/learning/visual-studio-code-productivity-tips)"
      ]
    },
    {
      "cell_type": "markdown",
      "metadata": {
        "id": "uL3EVYZaT38W",
        "colab_type": "text"
      },
      "source": [
        "## Data repository"
      ]
    },
    {
      "cell_type": "markdown",
      "metadata": {
        "id": "VOkz9HW1UB_z",
        "colab_type": "text"
      },
      "source": [
        "- [UCI Machine Learning Repository](https://archive.ics.uci.edu/ml/index.php)\n",
        "- [Kaggle datasets](https://www.kaggle.com/datasets)"
      ]
    },
    {
      "cell_type": "markdown",
      "metadata": {
        "id": "G3ZepAp1Ti2G",
        "colab_type": "text"
      },
      "source": [
        "## Software tools"
      ]
    },
    {
      "cell_type": "markdown",
      "metadata": {
        "id": "sl5ElmMWkEDc",
        "colab_type": "text"
      },
      "source": [
        "#### One way to access and run all the Jupyter notebooks locally\n",
        "\n",
        "- Install [Anaconda](https://www.anaconda.com/), [VSCode](https://code.visualstudio.com/), [Python](https://marketplace.visualstudio.com/items?itemName=ms-python.python) and [GitLens](https://marketplace.visualstudio.com/items?itemName=eamodio.gitlens) extensions for VSCode.\n",
        "- Git clone the current repository using VSCode.\n"
      ]
    }
  ]
}