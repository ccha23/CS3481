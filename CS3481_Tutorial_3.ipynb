{
  "nbformat": 4,
  "nbformat_minor": 0,
  "metadata": {
    "colab": {
      "name": "CS3481 Tutorial 3",
      "provenance": [],
      "collapsed_sections": [],
      "toc_visible": true
    },
    "kernelspec": {
      "name": "python3",
      "display_name": "Python 3"
    }
  },
  "cells": [
    {
      "cell_type": "markdown",
      "metadata": {
        "id": "E3AzlVAZkPCo",
        "colab_type": "text"
      },
      "source": [
        "# Tutorial 3\n",
        "\n",
        "**CS3481 Fundamentals of Data Science**\n",
        "\n",
        "*Semester B 2019/20*\n",
        "___\n",
        "**Instructions:**\n",
        "- same as [Tutorial 1](http://bit.ly/CS3481T1).\n",
        "- Submit your answers of Exercise 1 and 2 through [uReply](https://cityu.ed2.mobi/student/mobile_index.php) section number **LM773**. \n",
        "___"
      ]
    },
    {
      "cell_type": "markdown",
      "metadata": {
        "id": "-tEsb8F0sFdP",
        "colab_type": "text"
      },
      "source": [
        "## Exercise 1 (submit via uReply)"
      ]
    },
    {
      "cell_type": "markdown",
      "metadata": {
        "id": "uUvnfEVXtGp1",
        "colab_type": "text"
      },
      "source": [
        "Complete the tutorial exercises of [[Witten11]](https://ebookcentral.proquest.com/lib/cityuhk/reader.action?docID=634862&ppg=598) from **Exercise 17.1.8** to **17.1.10**.\n"
      ]
    },
    {
      "cell_type": "markdown",
      "metadata": {
        "id": "wn8cGMN4NMp1",
        "colab_type": "text"
      },
      "source": [
        "\n",
        "___\n",
        "**Answers to 17.1.8:** \n",
        "\n",
        "**Answers to 17.1.9:** \n",
        "\n",
        "**Answers to 17.1.10:**\n",
        "___\n"
      ]
    },
    {
      "cell_type": "markdown",
      "metadata": {
        "colab_type": "text",
        "id": "LMPOs44OL-Nd"
      },
      "source": [
        "## Exercise 2 (submit via uReply)\n"
      ]
    },
    {
      "cell_type": "markdown",
      "metadata": {
        "id": "Sj1IwsHyUDXK",
        "colab_type": "text"
      },
      "source": [
        "Answer the following questions and *explain your answers*. Give *examples* whenever possible."
      ]
    },
    {
      "cell_type": "markdown",
      "metadata": {
        "id": "Tk3vJo3uT97L",
        "colab_type": "text"
      },
      "source": [
        "(a) Is a classifier necessarily good if it does not overfit? "
      ]
    },
    {
      "cell_type": "markdown",
      "metadata": {
        "colab_type": "text",
        "id": "hpdwtEjdL9KE"
      },
      "source": [
        "___\n",
        "**Answer:**\n",
        "\n",
        "___"
      ]
    },
    {
      "cell_type": "markdown",
      "metadata": {
        "id": "L7R-7A-NTZwl",
        "colab_type": "text"
      },
      "source": [
        "(b) Can the holdout method prevent a classifier from overfitting?"
      ]
    },
    {
      "cell_type": "markdown",
      "metadata": {
        "colab_type": "text",
        "id": "y4wTta9FL8DB"
      },
      "source": [
        "___\n",
        "**Answer:**\n",
        "\n",
        "___"
      ]
    },
    {
      "cell_type": "markdown",
      "metadata": {
        "id": "iUx5dPQDlqIo",
        "colab_type": "text"
      },
      "source": [
        "## Exercise 3 (Optional)"
      ]
    },
    {
      "cell_type": "markdown",
      "metadata": {
        "id": "f7HtzrVV0LzF",
        "colab_type": "text"
      },
      "source": [
        "The following illustrates some methods evaluating a classification algorithm. First, we import the iris data set from `sklearn.datasets` package and assign the input features and target to `X` and `Y` respectively."
      ]
    },
    {
      "cell_type": "code",
      "metadata": {
        "id": "9gQINfrjsb4M",
        "colab_type": "code",
        "colab": {}
      },
      "source": [
        "from sklearn import datasets\n",
        "\n",
        "iris = datasets.load_iris()\n",
        "X = iris['data']\n",
        "Y = iris['target']\n",
        "\n",
        "X.shape, Y.shape # show the dimensions of the input features and target"
      ],
      "execution_count": 0,
      "outputs": []
    },
    {
      "cell_type": "markdown",
      "metadata": {
        "id": "28DWumHMNtis",
        "colab_type": "text"
      },
      "source": [
        "### (a) Holdout method"
      ]
    },
    {
      "cell_type": "markdown",
      "metadata": {
        "id": "MrLRBkOfp77Z",
        "colab_type": "text"
      },
      "source": [
        "Split the dataset into training set and test set using `train_test_split` function from the `sklearn.model_selection` package."
      ]
    },
    {
      "cell_type": "code",
      "metadata": {
        "id": "t3tbDaTINzM4",
        "colab_type": "code",
        "colab": {}
      },
      "source": [
        "from sklearn.model_selection import train_test_split\n",
        "\n",
        "X_train, X_test, Y_train, Y_test = train_test_split(X, Y, \n",
        "                                                    test_size=0.4, # randomly holdout 40% of data\n",
        "                                                    random_state=0) # using a random seed of 0.\n",
        "\n",
        "X_train.shape, Y_train.shape, X_test.shape, Y_test.shape # show the dimensions of the training and testing data"
      ],
      "execution_count": 0,
      "outputs": []
    },
    {
      "cell_type": "markdown",
      "metadata": {
        "id": "JrPUDPoUQRNz",
        "colab_type": "text"
      },
      "source": [
        "(i) What is the benefit of specifying a random seed?"
      ]
    },
    {
      "cell_type": "markdown",
      "metadata": {
        "id": "yZWEftJjQzNI",
        "colab_type": "text"
      },
      "source": [
        "___\n",
        "***Answers***:\n",
        "___"
      ]
    },
    {
      "cell_type": "markdown",
      "metadata": {
        "id": "I3s4W-epqshv",
        "colab_type": "text"
      },
      "source": [
        "Apply the decision tree algorithm to train a classifier on the training set."
      ]
    },
    {
      "cell_type": "code",
      "metadata": {
        "id": "EllmT0GtOaWi",
        "colab_type": "code",
        "colab": {}
      },
      "source": [
        "from sklearn import tree\n",
        "\n",
        "clf = tree.DecisionTreeClassifier()"
      ],
      "execution_count": 0,
      "outputs": []
    },
    {
      "cell_type": "code",
      "metadata": {
        "id": "ZahjqTR_RQpc",
        "colab_type": "code",
        "colab": {}
      },
      "source": [
        "tree.plot_tree(\n",
        "    clf.fit(X_train, Y_train) # fit the model to the training set \n",
        "    ) # plot the fitted model"
      ],
      "execution_count": 0,
      "outputs": []
    },
    {
      "cell_type": "markdown",
      "metadata": {
        "id": "13J0QKSVq5HH",
        "colab_type": "text"
      },
      "source": [
        "Evaluate the classifier by computing the accuracy score on the test set."
      ]
    },
    {
      "cell_type": "code",
      "metadata": {
        "id": "J0VFeT7SPTBA",
        "colab_type": "code",
        "colab": {}
      },
      "source": [
        "print('Accuracy: {:0.2f}'.format(clf.score(X_test, Y_test)))"
      ],
      "execution_count": 0,
      "outputs": []
    },
    {
      "cell_type": "markdown",
      "metadata": {
        "id": "__n-0G7IrC6d",
        "colab_type": "text"
      },
      "source": [
        "To investigate the errors further, one can return the classifier predictions on the test data."
      ]
    },
    {
      "cell_type": "code",
      "metadata": {
        "id": "HiCko1Q6mvnx",
        "colab_type": "code",
        "colab": {}
      },
      "source": [
        "Y_test_pred = clf.predict(X_test)"
      ],
      "execution_count": 0,
      "outputs": []
    },
    {
      "cell_type": "code",
      "metadata": {
        "id": "n84-qe1zm_zT",
        "colab_type": "code",
        "colab": {}
      },
      "source": [
        "import pandas as pd\n",
        "import numpy as np\n",
        "\n",
        "holdout_pd = pd.DataFrame(data = np.c_[X_test, Y_test, Y_test_pred], columns = iris['feature_names']+['target']+['prediction'])\n",
        "holdout_pd.loc[holdout_pd['target'] != holdout_pd['prediction']]"
      ],
      "execution_count": 0,
      "outputs": []
    },
    {
      "cell_type": "markdown",
      "metadata": {
        "id": "GWIPcjjEVXh6",
        "colab_type": "text"
      },
      "source": [
        "(ii) Compute the accuracy of the classifier on the training set. Compare it with the test accuracy and explain why the training accuracy is larger or small."
      ]
    },
    {
      "cell_type": "markdown",
      "metadata": {
        "id": "LKs-Y_xcaiXJ",
        "colab_type": "text"
      },
      "source": [
        "### (b) Cross validation"
      ]
    },
    {
      "cell_type": "markdown",
      "metadata": {
        "id": "MIbc2iE5rYpO",
        "colab_type": "text"
      },
      "source": [
        "Use 10-fold cross validation to test the decision tree algorithm."
      ]
    },
    {
      "cell_type": "code",
      "metadata": {
        "id": "UqjH0FVvalI4",
        "colab_type": "code",
        "colab": {}
      },
      "source": [
        "from sklearn.model_selection import cross_val_score\n",
        "\n",
        "scores = cross_val_score(clf, X, Y, cv=10)\n",
        "\n",
        "scores"
      ],
      "execution_count": 0,
      "outputs": []
    },
    {
      "cell_type": "code",
      "metadata": {
        "id": "kv9OpSc0bRQu",
        "colab_type": "code",
        "colab": {}
      },
      "source": [
        "print('Accuracy: {:0.2f} (+/- {:0.2f})'.format(scores.mean(), scores.std() * 2))"
      ],
      "execution_count": 0,
      "outputs": []
    },
    {
      "cell_type": "markdown",
      "metadata": {
        "id": "sGSZrSQ-jtQi",
        "colab_type": "text"
      },
      "source": [
        "Obtain the prediction on each instance. "
      ]
    },
    {
      "cell_type": "code",
      "metadata": {
        "id": "lkopY_9pj12l",
        "colab_type": "code",
        "colab": {}
      },
      "source": [
        "from sklearn.model_selection import cross_val_predict\n",
        "\n",
        "Y_pred = cross_val_predict(clf, X, Y, cv=10)"
      ],
      "execution_count": 0,
      "outputs": []
    },
    {
      "cell_type": "code",
      "metadata": {
        "id": "ZE5pla5bszpB",
        "colab_type": "code",
        "colab": {}
      },
      "source": [
        "import pandas as pd\n",
        "import numpy as np\n",
        "\n",
        "cv_pd = pd.DataFrame(data = np.c_[X, Y, Y_pred], columns = iris['feature_names']+['target']+['prediction'])\n",
        "cv_pd.loc[cv_pd['target'] != cv_pd['prediction']]"
      ],
      "execution_count": 0,
      "outputs": []
    },
    {
      "cell_type": "markdown",
      "metadata": {
        "id": "X3zL4X7eS0rJ",
        "colab_type": "text"
      },
      "source": [
        "(i) Why can we use cross validation to return the classifier predictions for ***the entire dataset*** but we can only use the holdout method to return predictions for the ***test set*** but not the training set?"
      ]
    },
    {
      "cell_type": "markdown",
      "metadata": {
        "id": "VLJpfQkbT3El",
        "colab_type": "text"
      },
      "source": [
        "___\n",
        "***Answers***\n",
        "___"
      ]
    },
    {
      "cell_type": "markdown",
      "metadata": {
        "id": "0BeaZPDfXMhA",
        "colab_type": "text"
      },
      "source": [
        "### (c) Bootstrap\n",
        "\n",
        "(i) Follow the documentation [here](https://ogrisel.github.io/scikit-learn.org/sklearn-tutorial/modules/generated/sklearn.cross_validation.Bootstrap.html) to explore the boostrapping method."
      ]
    },
    {
      "cell_type": "code",
      "metadata": {
        "id": "bsMm9VIyT7ys",
        "colab_type": "code",
        "colab": {}
      },
      "source": [
        ""
      ],
      "execution_count": 0,
      "outputs": []
    }
  ]
}