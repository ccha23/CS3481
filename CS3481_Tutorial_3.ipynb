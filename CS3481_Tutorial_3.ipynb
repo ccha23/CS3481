{
  "nbformat": 4,
  "nbformat_minor": 0,
  "metadata": {
    "colab": {
      "name": "CS3481 Tutorial 3",
      "provenance": [],
      "collapsed_sections": [],
      "toc_visible": true
    },
    "kernelspec": {
      "name": "python3",
      "display_name": "Python 3"
    }
  },
  "cells": [
    {
      "cell_type": "markdown",
      "metadata": {
        "id": "E3AzlVAZkPCo",
        "colab_type": "text"
      },
      "source": [
        "# Tutorial 3\n",
        "\n",
        "**CS3481 Fundamentals of Data Science**\n",
        "\n",
        "*Semester B 2019/20*\n",
        "___\n",
        "**Instructions:**\n",
        "- same as [Tutorial 1](http://bit.ly/CS3481T1).\n",
        "- Submit your answers of Exercise 1 and 2 through [uReply](https://cityu.ed2.mobi/student/mobile_index.php) section number **LM773**. \n",
        "___"
      ]
    },
    {
      "cell_type": "markdown",
      "metadata": {
        "id": "-tEsb8F0sFdP",
        "colab_type": "text"
      },
      "source": [
        "## Exercise 1 (submit via uReply)"
      ]
    },
    {
      "cell_type": "markdown",
      "metadata": {
        "id": "uUvnfEVXtGp1",
        "colab_type": "text"
      },
      "source": [
        "Complete the tutorial exercises of [[Witten11]](https://ebookcentral.proquest.com/lib/cityuhk/reader.action?docID=634862&ppg=597) from **Exercise 17.1.8** to **17.1.10**.\n"
      ]
    },
    {
      "cell_type": "markdown",
      "metadata": {
        "id": "wn8cGMN4NMp1",
        "colab_type": "text"
      },
      "source": [
        "\n",
        "___\n",
        "**Answers to 17.1.9:** \n",
        "\n",
        "**Answers to 17.1.9:** \n",
        "\n",
        "**Answers to 17.1.10:**\n",
        "___\n"
      ]
    },
    {
      "cell_type": "markdown",
      "metadata": {
        "colab_type": "text",
        "id": "LMPOs44OL-Nd"
      },
      "source": [
        "## Exercise 2 (submit via uReply)\n"
      ]
    },
    {
      "cell_type": "markdown",
      "metadata": {
        "id": "Sj1IwsHyUDXK",
        "colab_type": "text"
      },
      "source": [
        "Answer the following questions and *explain your answers*. Give *examples* whenever possible."
      ]
    },
    {
      "cell_type": "markdown",
      "metadata": {
        "id": "Tk3vJo3uT97L",
        "colab_type": "text"
      },
      "source": [
        "(a) Is a classifier necessarily good if it does not overfit? "
      ]
    },
    {
      "cell_type": "markdown",
      "metadata": {
        "colab_type": "text",
        "id": "hpdwtEjdL9KE"
      },
      "source": [
        "___\n",
        "**Answer:**\n",
        "\n",
        "___"
      ]
    },
    {
      "cell_type": "markdown",
      "metadata": {
        "id": "L7R-7A-NTZwl",
        "colab_type": "text"
      },
      "source": [
        "(b) Can the holdout method prevent a classifier from overfitting?"
      ]
    },
    {
      "cell_type": "markdown",
      "metadata": {
        "colab_type": "text",
        "id": "y4wTta9FL8DB"
      },
      "source": [
        "___\n",
        "**Answer:**\n",
        "\n",
        "___"
      ]
    },
    {
      "cell_type": "markdown",
      "metadata": {
        "id": "iUx5dPQDlqIo",
        "colab_type": "text"
      },
      "source": [
        "## Exercise 3 (Optional)"
      ]
    },
    {
      "cell_type": "markdown",
      "metadata": {
        "id": "f7HtzrVV0LzF",
        "colab_type": "text"
      },
      "source": [
        "The following illustrates some methods evaluating a classification algorithm. First, we import the iris data set from `sklearn.datasets` package and assign the input features and target to `X` and `Y` respectively."
      ]
    },
    {
      "cell_type": "code",
      "metadata": {
        "id": "9gQINfrjsb4M",
        "colab_type": "code",
        "outputId": "2bd2502f-81c6-4a20-fc7e-4640bfe6efdf",
        "colab": {
          "base_uri": "https://localhost:8080/",
          "height": 34
        }
      },
      "source": [
        "from sklearn import datasets\n",
        "\n",
        "iris = datasets.load_iris()\n",
        "X = iris['data']\n",
        "Y = iris['target']\n",
        "\n",
        "X.shape, Y.shape # show the dimensions of the input features and target"
      ],
      "execution_count": 0,
      "outputs": [
        {
          "output_type": "execute_result",
          "data": {
            "text/plain": [
              "((150, 4), (150,))"
            ]
          },
          "metadata": {
            "tags": []
          },
          "execution_count": 54
        }
      ]
    },
    {
      "cell_type": "markdown",
      "metadata": {
        "id": "28DWumHMNtis",
        "colab_type": "text"
      },
      "source": [
        "### (a) Holdout method"
      ]
    },
    {
      "cell_type": "markdown",
      "metadata": {
        "id": "MrLRBkOfp77Z",
        "colab_type": "text"
      },
      "source": [
        "Split the dataset into training set and test set using `train_test_split` function from the `sklearn.model_selection` package."
      ]
    },
    {
      "cell_type": "code",
      "metadata": {
        "id": "t3tbDaTINzM4",
        "colab_type": "code",
        "outputId": "a3ee106c-c307-4725-dbfc-98547a76ce88",
        "colab": {
          "base_uri": "https://localhost:8080/",
          "height": 34
        }
      },
      "source": [
        "from sklearn.model_selection import train_test_split\n",
        "\n",
        "X_train, X_test, Y_train, Y_test = train_test_split(X, Y, \n",
        "                                                    test_size=0.4, # randomly holdout 40% of data\n",
        "                                                    random_state=0) # using a random seed of 0.\n",
        "\n",
        "X_train.shape, Y_train.shape, X_test.shape, Y_test.shape # show the dimensions of the training and testing data"
      ],
      "execution_count": 0,
      "outputs": [
        {
          "output_type": "execute_result",
          "data": {
            "text/plain": [
              "((90, 4), (90,), (60, 4), (60,))"
            ]
          },
          "metadata": {
            "tags": []
          },
          "execution_count": 55
        }
      ]
    },
    {
      "cell_type": "markdown",
      "metadata": {
        "id": "JrPUDPoUQRNz",
        "colab_type": "text"
      },
      "source": [
        "(i) What is the benefit of specifying a random seed?"
      ]
    },
    {
      "cell_type": "markdown",
      "metadata": {
        "id": "yZWEftJjQzNI",
        "colab_type": "text"
      },
      "source": [
        "___\n",
        "***Answers***:\n",
        "___"
      ]
    },
    {
      "cell_type": "markdown",
      "metadata": {
        "id": "I3s4W-epqshv",
        "colab_type": "text"
      },
      "source": [
        "Apply the decision tree algorithm to train a classifier on the training set."
      ]
    },
    {
      "cell_type": "code",
      "metadata": {
        "id": "EllmT0GtOaWi",
        "colab_type": "code",
        "colab": {}
      },
      "source": [
        "from sklearn import tree\n",
        "\n",
        "clf = tree.DecisionTreeClassifier()"
      ],
      "execution_count": 0,
      "outputs": []
    },
    {
      "cell_type": "code",
      "metadata": {
        "id": "ZahjqTR_RQpc",
        "colab_type": "code",
        "outputId": "09344d61-99bb-4d69-de56-328b3ac5ca89",
        "colab": {
          "base_uri": "https://localhost:8080/",
          "height": 399
        }
      },
      "source": [
        "tree.plot_tree(\n",
        "    clf.fit(X_train, Y_train) # fit the model to the training set \n",
        "    ) # plot the fitted model"
      ],
      "execution_count": 0,
      "outputs": [
        {
          "output_type": "execute_result",
          "data": {
            "text/plain": [
              "[Text(133.92000000000002, 195.696, 'X[3] <= 0.75\\ngini = 0.663\\nsamples = 90\\nvalue = [34, 27, 29]'),\n",
              " Text(66.96000000000001, 152.208, 'gini = 0.0\\nsamples = 34\\nvalue = [34, 0, 0]'),\n",
              " Text(200.88000000000002, 152.208, 'X[2] <= 5.05\\ngini = 0.499\\nsamples = 56\\nvalue = [0, 27, 29]'),\n",
              " Text(133.92000000000002, 108.72, 'X[3] <= 1.75\\ngini = 0.128\\nsamples = 29\\nvalue = [0, 27, 2]'),\n",
              " Text(66.96000000000001, 65.232, 'gini = 0.0\\nsamples = 26\\nvalue = [0, 26, 0]'),\n",
              " Text(200.88000000000002, 65.232, 'X[1] <= 3.1\\ngini = 0.444\\nsamples = 3\\nvalue = [0, 1, 2]'),\n",
              " Text(133.92000000000002, 21.744, 'gini = 0.0\\nsamples = 2\\nvalue = [0, 0, 2]'),\n",
              " Text(267.84000000000003, 21.744, 'gini = 0.0\\nsamples = 1\\nvalue = [0, 1, 0]'),\n",
              " Text(267.84000000000003, 108.72, 'gini = 0.0\\nsamples = 27\\nvalue = [0, 0, 27]')]"
            ]
          },
          "metadata": {
            "tags": []
          },
          "execution_count": 57
        },
        {
          "output_type": "display_data",
          "data": {
            "image/png": "[encoded data removed]",
            "text/plain": [
              "<Figure size 432x288 with 1 Axes>"
            ]
          },
          "metadata": {
            "tags": []
          }
        }
      ]
    },
    {
      "cell_type": "markdown",
      "metadata": {
        "id": "13J0QKSVq5HH",
        "colab_type": "text"
      },
      "source": [
        "Evaluate the classifier by computing the accuracy score on the test set."
      ]
    },
    {
      "cell_type": "code",
      "metadata": {
        "id": "J0VFeT7SPTBA",
        "colab_type": "code",
        "outputId": "fe896577-0133-4412-c801-678680ed5d96",
        "colab": {
          "base_uri": "https://localhost:8080/",
          "height": 34
        }
      },
      "source": [
        "print('Accuracy: {:0.2f}'.format(clf.score(X_test, Y_test)))"
      ],
      "execution_count": 0,
      "outputs": [
        {
          "output_type": "stream",
          "text": [
            "Accuracy: 0.95\n"
          ],
          "name": "stdout"
        }
      ]
    },
    {
      "cell_type": "markdown",
      "metadata": {
        "id": "__n-0G7IrC6d",
        "colab_type": "text"
      },
      "source": [
        "To investigate the errors further, one can return the classifier predictions on the test data."
      ]
    },
    {
      "cell_type": "code",
      "metadata": {
        "id": "HiCko1Q6mvnx",
        "colab_type": "code",
        "colab": {}
      },
      "source": [
        "Y_test_pred = clf.predict(X_test)"
      ],
      "execution_count": 0,
      "outputs": []
    },
    {
      "cell_type": "code",
      "metadata": {
        "id": "n84-qe1zm_zT",
        "colab_type": "code",
        "outputId": "04597826-fdcc-48c6-cd9d-a9a24f5b475e",
        "colab": {
          "base_uri": "https://localhost:8080/",
          "height": 136
        }
      },
      "source": [
        "import pandas as pd\n",
        "import numpy as np\n",
        "\n",
        "holdout_pd = pd.DataFrame(data = np.c_[X_test, Y_test, Y_test_pred], columns = iris['feature_names']+['target']+['prediction'])\n",
        "holdout_pd.loc[holdout_pd['target'] != holdout_pd['prediction']]"
      ],
      "execution_count": 0,
      "outputs": [
        {
          "output_type": "execute_result",
          "data": {
            "text/html": [
              "<div>\n",
              "<style scoped>\n",
              "    .dataframe tbody tr th:only-of-type {\n",
              "        vertical-align: middle;\n",
              "    }\n",
              "\n",
              "    .dataframe tbody tr th {\n",
              "        vertical-align: top;\n",
              "    }\n",
              "\n",
              "    .dataframe thead th {\n",
              "        text-align: right;\n",
              "    }\n",
              "</style>\n",
              "<table border=\"1\" class=\"dataframe\">\n",
              "  <thead>\n",
              "    <tr style=\"text-align: right;\">\n",
              "      <th></th>\n",
              "      <th>sepal length (cm)</th>\n",
              "      <th>sepal width (cm)</th>\n",
              "      <th>petal length (cm)</th>\n",
              "      <th>petal width (cm)</th>\n",
              "      <th>target</th>\n",
              "      <th>prediction</th>\n",
              "    </tr>\n",
              "  </thead>\n",
              "  <tbody>\n",
              "    <tr>\n",
              "      <th>37</th>\n",
              "      <td>6.0</td>\n",
              "      <td>2.7</td>\n",
              "      <td>5.1</td>\n",
              "      <td>1.6</td>\n",
              "      <td>1.0</td>\n",
              "      <td>2.0</td>\n",
              "    </tr>\n",
              "    <tr>\n",
              "      <th>48</th>\n",
              "      <td>6.0</td>\n",
              "      <td>2.2</td>\n",
              "      <td>5.0</td>\n",
              "      <td>1.5</td>\n",
              "      <td>2.0</td>\n",
              "      <td>1.0</td>\n",
              "    </tr>\n",
              "    <tr>\n",
              "      <th>56</th>\n",
              "      <td>4.9</td>\n",
              "      <td>2.5</td>\n",
              "      <td>4.5</td>\n",
              "      <td>1.7</td>\n",
              "      <td>2.0</td>\n",
              "      <td>1.0</td>\n",
              "    </tr>\n",
              "  </tbody>\n",
              "</table>\n",
              "</div>"
            ],
            "text/plain": [
              "    sepal length (cm)  sepal width (cm)  ...  target  prediction\n",
              "37                6.0               2.7  ...     1.0         2.0\n",
              "48                6.0               2.2  ...     2.0         1.0\n",
              "56                4.9               2.5  ...     2.0         1.0\n",
              "\n",
              "[3 rows x 6 columns]"
            ]
          },
          "metadata": {
            "tags": []
          },
          "execution_count": 60
        }
      ]
    },
    {
      "cell_type": "markdown",
      "metadata": {
        "id": "GWIPcjjEVXh6",
        "colab_type": "text"
      },
      "source": [
        "(ii) Compute the accuracy of the classifier on the training set. Compare it with the test accuracy and explain why the training accuracy is larger or small."
      ]
    },
    {
      "cell_type": "markdown",
      "metadata": {
        "id": "LKs-Y_xcaiXJ",
        "colab_type": "text"
      },
      "source": [
        "### (b) Cross validation"
      ]
    },
    {
      "cell_type": "markdown",
      "metadata": {
        "id": "MIbc2iE5rYpO",
        "colab_type": "text"
      },
      "source": [
        "Use 10-fold cross validation to test the decision tree algorithm."
      ]
    },
    {
      "cell_type": "code",
      "metadata": {
        "id": "UqjH0FVvalI4",
        "colab_type": "code",
        "outputId": "5671429b-9a7a-4481-f003-7bfc34a1b42a",
        "colab": {
          "base_uri": "https://localhost:8080/",
          "height": 50
        }
      },
      "source": [
        "from sklearn.model_selection import cross_val_score\n",
        "\n",
        "scores = cross_val_score(clf, X, Y, cv=10)\n",
        "\n",
        "scores"
      ],
      "execution_count": 0,
      "outputs": [
        {
          "output_type": "execute_result",
          "data": {
            "text/plain": [
              "array([1.        , 0.93333333, 1.        , 0.93333333, 0.93333333,\n",
              "       0.86666667, 0.93333333, 1.        , 1.        , 1.        ])"
            ]
          },
          "metadata": {
            "tags": []
          },
          "execution_count": 61
        }
      ]
    },
    {
      "cell_type": "code",
      "metadata": {
        "id": "kv9OpSc0bRQu",
        "colab_type": "code",
        "outputId": "24f7ff69-f507-498c-d89b-3ea5df1c363b",
        "colab": {
          "base_uri": "https://localhost:8080/",
          "height": 34
        }
      },
      "source": [
        "print('Accuracy: {:0.2f} (+/- {:0.2f})'.format(scores.mean(), scores.std() * 2))"
      ],
      "execution_count": 0,
      "outputs": [
        {
          "output_type": "stream",
          "text": [
            "Accuracy: 0.96 (+/- 0.09)\n"
          ],
          "name": "stdout"
        }
      ]
    },
    {
      "cell_type": "markdown",
      "metadata": {
        "id": "sGSZrSQ-jtQi",
        "colab_type": "text"
      },
      "source": [
        "Obtain the prediction on each instance. "
      ]
    },
    {
      "cell_type": "code",
      "metadata": {
        "id": "lkopY_9pj12l",
        "colab_type": "code",
        "colab": {}
      },
      "source": [
        "from sklearn.model_selection import cross_val_predict\n",
        "\n",
        "Y_pred = cross_val_predict(clf, X, Y, cv=10)"
      ],
      "execution_count": 0,
      "outputs": []
    },
    {
      "cell_type": "code",
      "metadata": {
        "id": "ZE5pla5bszpB",
        "colab_type": "code",
        "outputId": "65f4c39d-c970-42d0-89ad-b67fa5bdf8ca",
        "colab": {
          "base_uri": "https://localhost:8080/",
          "height": 225
        }
      },
      "source": [
        "import pandas as pd\n",
        "import numpy as np\n",
        "\n",
        "cv_pd = pd.DataFrame(data = np.c_[X, Y, Y_pred], columns = iris['feature_names']+['target']+['prediction'])\n",
        "cv_pd.loc[cv_pd['target'] != cv_pd['prediction']]"
      ],
      "execution_count": 0,
      "outputs": [
        {
          "output_type": "execute_result",
          "data": {
            "text/html": [
              "<div>\n",
              "<style scoped>\n",
              "    .dataframe tbody tr th:only-of-type {\n",
              "        vertical-align: middle;\n",
              "    }\n",
              "\n",
              "    .dataframe tbody tr th {\n",
              "        vertical-align: top;\n",
              "    }\n",
              "\n",
              "    .dataframe thead th {\n",
              "        text-align: right;\n",
              "    }\n",
              "</style>\n",
              "<table border=\"1\" class=\"dataframe\">\n",
              "  <thead>\n",
              "    <tr style=\"text-align: right;\">\n",
              "      <th></th>\n",
              "      <th>sepal length (cm)</th>\n",
              "      <th>sepal width (cm)</th>\n",
              "      <th>petal length (cm)</th>\n",
              "      <th>petal width (cm)</th>\n",
              "      <th>target</th>\n",
              "      <th>prediction</th>\n",
              "    </tr>\n",
              "  </thead>\n",
              "  <tbody>\n",
              "    <tr>\n",
              "      <th>70</th>\n",
              "      <td>5.9</td>\n",
              "      <td>3.2</td>\n",
              "      <td>4.8</td>\n",
              "      <td>1.8</td>\n",
              "      <td>1.0</td>\n",
              "      <td>2.0</td>\n",
              "    </tr>\n",
              "    <tr>\n",
              "      <th>77</th>\n",
              "      <td>6.7</td>\n",
              "      <td>3.0</td>\n",
              "      <td>5.0</td>\n",
              "      <td>1.7</td>\n",
              "      <td>1.0</td>\n",
              "      <td>2.0</td>\n",
              "    </tr>\n",
              "    <tr>\n",
              "      <th>83</th>\n",
              "      <td>6.0</td>\n",
              "      <td>2.7</td>\n",
              "      <td>5.1</td>\n",
              "      <td>1.6</td>\n",
              "      <td>1.0</td>\n",
              "      <td>2.0</td>\n",
              "    </tr>\n",
              "    <tr>\n",
              "      <th>106</th>\n",
              "      <td>4.9</td>\n",
              "      <td>2.5</td>\n",
              "      <td>4.5</td>\n",
              "      <td>1.7</td>\n",
              "      <td>2.0</td>\n",
              "      <td>1.0</td>\n",
              "    </tr>\n",
              "    <tr>\n",
              "      <th>119</th>\n",
              "      <td>6.0</td>\n",
              "      <td>2.2</td>\n",
              "      <td>5.0</td>\n",
              "      <td>1.5</td>\n",
              "      <td>2.0</td>\n",
              "      <td>1.0</td>\n",
              "    </tr>\n",
              "    <tr>\n",
              "      <th>129</th>\n",
              "      <td>7.2</td>\n",
              "      <td>3.0</td>\n",
              "      <td>5.8</td>\n",
              "      <td>1.6</td>\n",
              "      <td>2.0</td>\n",
              "      <td>1.0</td>\n",
              "    </tr>\n",
              "  </tbody>\n",
              "</table>\n",
              "</div>"
            ],
            "text/plain": [
              "     sepal length (cm)  sepal width (cm)  ...  target  prediction\n",
              "70                 5.9               3.2  ...     1.0         2.0\n",
              "77                 6.7               3.0  ...     1.0         2.0\n",
              "83                 6.0               2.7  ...     1.0         2.0\n",
              "106                4.9               2.5  ...     2.0         1.0\n",
              "119                6.0               2.2  ...     2.0         1.0\n",
              "129                7.2               3.0  ...     2.0         1.0\n",
              "\n",
              "[6 rows x 6 columns]"
            ]
          },
          "metadata": {
            "tags": []
          },
          "execution_count": 63
        }
      ]
    },
    {
      "cell_type": "markdown",
      "metadata": {
        "id": "X3zL4X7eS0rJ",
        "colab_type": "text"
      },
      "source": [
        "(i) Why can we use cross validation to return the classifier predictions for ***the entire dataset*** but we can only use the holdout method to return predictions for the ***test set*** but not the training set?"
      ]
    },
    {
      "cell_type": "markdown",
      "metadata": {
        "id": "VLJpfQkbT3El",
        "colab_type": "text"
      },
      "source": [
        "___\n",
        "***Answers***\n",
        "___"
      ]
    },
    {
      "cell_type": "markdown",
      "metadata": {
        "id": "0BeaZPDfXMhA",
        "colab_type": "text"
      },
      "source": [
        "### (c) Bootstrap\n",
        "\n",
        "(i) Follow the documentation [here](https://ogrisel.github.io/scikit-learn.org/sklearn-tutorial/modules/generated/sklearn.cross_validation.Bootstrap.html) to explore the boostrapping method."
      ]
    },
    {
      "cell_type": "code",
      "metadata": {
        "id": "bsMm9VIyT7ys",
        "colab_type": "code",
        "colab": {}
      },
      "source": [
        ""
      ],
      "execution_count": 0,
      "outputs": []
    }
  ]
}