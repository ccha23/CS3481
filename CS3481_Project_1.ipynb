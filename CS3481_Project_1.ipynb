{
  "nbformat": 4,
  "nbformat_minor": 0,
  "metadata": {
    "colab": {
      "name": "CS3481 Project 1",
      "provenance": [],
      "collapsed_sections": [],
      "toc_visible": true
    },
    "kernelspec": {
      "name": "python3",
      "display_name": "Python 3"
    }
  },
  "cells": [
    {
      "cell_type": "markdown",
      "metadata": {
        "id": "E3AzlVAZkPCo",
        "colab_type": "text"
      },
      "source": [
        "# Project 1\n",
        "\n",
        "**CS3481 Fundamentals of Data Science**\n",
        "\n",
        "*Semester B 2019/20*\n",
        "___\n",
        "**Instructions:**\n",
        "- A report not exceeding 15 pages should be submitted via [Canvas Project~1 assignment](https://canvas.cityu.edu.hk/courses/32828/assignments/103472) by *Mar 6*. \n",
        "- You can submit multiple times by the deadline. (Technical difficulties are not valid justifications for any late submissions.)\n",
        "- This project worths 75 points (15% of the entire course assessment).\n",
        "- There are 14 exercises, each of which worths 5 points:\n",
        "  - 5 points for correct answer and excellent understanding.\n",
        "  - 3 points for partially correct answer and some understanding.\n",
        "  - 1 point for having reasonable attempts.\n",
        "- The remaining 5 points are given for *clear presentation*. \n",
        "- It is your responsibility to take proper measures to avoid suspicion of plagiarism.\n",
        "___"
      ]
    },
    {
      "cell_type": "markdown",
      "metadata": {
        "id": "-tEsb8F0sFdP",
        "colab_type": "text"
      },
      "source": [
        "For this project, you need to access [[Witten11] Ch.~17](https://ebookcentral.proquest.com/lib/cityuhk/reader.action?docID=634862&ppg=602). The exercises are designed for WEKA but you may also use other equivalent or more powerful tools such as Python and R."
      ]
    },
    {
      "cell_type": "markdown",
      "metadata": {
        "id": "HTI8dDNndUtZ",
        "colab_type": "text"
      },
      "source": [
        "### Question 1 (10 points)"
      ]
    },
    {
      "cell_type": "markdown",
      "metadata": {
        "id": "MmsPZgxAdSLB",
        "colab_type": "text"
      },
      "source": [
        "Complete the tutorial exercises in **Section 17.2 Attribute Selection**(Ex 17.2.4-17.2.5)."
      ]
    },
    {
      "cell_type": "markdown",
      "metadata": {
        "id": "uUvnfEVXtGp1",
        "colab_type": "text"
      },
      "source": [
        "(a) **Ex~17.2.4**\n"
      ]
    },
    {
      "cell_type": "markdown",
      "metadata": {
        "id": "wn8cGMN4NMp1",
        "colab_type": "text"
      },
      "source": [
        "\n",
        "___\n",
        "**Answer:** \n",
        "___\n"
      ]
    },
    {
      "cell_type": "markdown",
      "metadata": {
        "colab_type": "text",
        "id": "JWgz3uypeChK"
      },
      "source": [
        "(b) **Ex~17.2.5**\n"
      ]
    },
    {
      "cell_type": "markdown",
      "metadata": {
        "colab_type": "text",
        "id": "azvsNMeweChO"
      },
      "source": [
        "\n",
        "___\n",
        "**Answer:** \n",
        "___\n"
      ]
    },
    {
      "cell_type": "markdown",
      "metadata": {
        "id": "_3kMIjXkeS4o",
        "colab_type": "text"
      },
      "source": [
        "### Question 2 (5 points)"
      ]
    },
    {
      "cell_type": "markdown",
      "metadata": {
        "id": "v8EF29fPeVuN",
        "colab_type": "text"
      },
      "source": [
        "If your answer to Ex~17.2.5 is \"no\", give a better performance estimate and the best subset of features for *deployment*. Explain how you obtain the estimate and subset, i.e., how you subdivide the dataset for training, validation and testing, and which accuracy values you use to select the features for deployment."
      ]
    },
    {
      "cell_type": "markdown",
      "metadata": {
        "colab_type": "text",
        "id": "JgZvnwqxeq5X"
      },
      "source": [
        "\n",
        "___\n",
        "**Answer:** \n",
        "___\n"
      ]
    },
    {
      "cell_type": "markdown",
      "metadata": {
        "id": "9UGJvuAke6O0",
        "colab_type": "text"
      },
      "source": [
        "### Question 3 (30 points)"
      ]
    },
    {
      "cell_type": "markdown",
      "metadata": {
        "id": "u_YZ0bLRfB16",
        "colab_type": "text"
      },
      "source": [
        "Complete the tutorial exercises in **Section 17.4 starting from Automatic Attribute Selection** (Ex 17.4.8-17.4.13)."
      ]
    },
    {
      "cell_type": "markdown",
      "metadata": {
        "colab_type": "text",
        "id": "M4oInOjWj4oL"
      },
      "source": [
        "(a) **Ex~17.4.8**\n"
      ]
    },
    {
      "cell_type": "markdown",
      "metadata": {
        "colab_type": "text",
        "id": "k_-T8aACj4oO"
      },
      "source": [
        "\n",
        "___\n",
        "**Answer:** \n",
        "___\n"
      ]
    },
    {
      "cell_type": "markdown",
      "metadata": {
        "colab_type": "text",
        "id": "KjO2-M8Lj4oP"
      },
      "source": [
        "(b) **Ex~17.4.9**\n"
      ]
    },
    {
      "cell_type": "markdown",
      "metadata": {
        "colab_type": "text",
        "id": "Bw_sdwI7j4oP"
      },
      "source": [
        "\n",
        "___\n",
        "**Answer:** \n",
        "___\n"
      ]
    },
    {
      "cell_type": "markdown",
      "metadata": {
        "colab_type": "text",
        "id": "8y63gLfbj9WA"
      },
      "source": [
        "(c) **Ex~17.4.10**\n"
      ]
    },
    {
      "cell_type": "markdown",
      "metadata": {
        "colab_type": "text",
        "id": "bVGr7j88j9WF"
      },
      "source": [
        "\n",
        "___\n",
        "**Answer:** \n",
        "___\n"
      ]
    },
    {
      "cell_type": "markdown",
      "metadata": {
        "colab_type": "text",
        "id": "L4xxqm6kj9WJ"
      },
      "source": [
        "(d) **Ex~17.4.11**\n"
      ]
    },
    {
      "cell_type": "markdown",
      "metadata": {
        "colab_type": "text",
        "id": "UtRIeJuFj9WL"
      },
      "source": [
        "\n",
        "___\n",
        "**Answer:** \n",
        "___\n"
      ]
    },
    {
      "cell_type": "markdown",
      "metadata": {
        "colab_type": "text",
        "id": "0-E7wIzWkA_M"
      },
      "source": [
        "(e) **Ex~17.4.12**\n"
      ]
    },
    {
      "cell_type": "markdown",
      "metadata": {
        "colab_type": "text",
        "id": "mc5rOxqNkA_Q"
      },
      "source": [
        "\n",
        "___\n",
        "**Answer:** \n",
        "___\n"
      ]
    },
    {
      "cell_type": "markdown",
      "metadata": {
        "colab_type": "text",
        "id": "TZfjEVt2kA_S"
      },
      "source": [
        "(f) **Ex~17.4.13**\n"
      ]
    },
    {
      "cell_type": "markdown",
      "metadata": {
        "colab_type": "text",
        "id": "X9qHYKCCkA_U"
      },
      "source": [
        "\n",
        "___\n",
        "**Answer:** \n",
        "___\n"
      ]
    },
    {
      "cell_type": "markdown",
      "metadata": {
        "id": "JyzcHx2Okhur",
        "colab_type": "text"
      },
      "source": [
        "### Question 4 (25 points)"
      ]
    },
    {
      "cell_type": "markdown",
      "metadata": {
        "id": "tBT40Q5Dkscn",
        "colab_type": "text"
      },
      "source": [
        "Complete the tutorial exercises in ***Section 17.3** starting from ***Visualizing Decision Trees and Rule Sets*** (Ex~17.3.8--17.3.12)."
      ]
    },
    {
      "cell_type": "markdown",
      "metadata": {
        "colab_type": "text",
        "id": "UkyBcushk3Zp"
      },
      "source": [
        "(a) **Ex~17.3.8**\n"
      ]
    },
    {
      "cell_type": "markdown",
      "metadata": {
        "colab_type": "text",
        "id": "1V1iBlcVk3Zt"
      },
      "source": [
        "\n",
        "___\n",
        "**Answer:** \n",
        "___\n"
      ]
    },
    {
      "cell_type": "markdown",
      "metadata": {
        "colab_type": "text",
        "id": "ENLTBdokk3Zu"
      },
      "source": [
        "(b) **Ex~17.3.9**\n"
      ]
    },
    {
      "cell_type": "markdown",
      "metadata": {
        "colab_type": "text",
        "id": "NiN5CpXnk3Zv"
      },
      "source": [
        "\n",
        "___\n",
        "**Answer:** \n",
        "___\n"
      ]
    },
    {
      "cell_type": "markdown",
      "metadata": {
        "colab_type": "text",
        "id": "caiLPZVuk3Zv"
      },
      "source": [
        "(c) **Ex~17.3.10**\n"
      ]
    },
    {
      "cell_type": "markdown",
      "metadata": {
        "colab_type": "text",
        "id": "K93x_mlJk3Zx"
      },
      "source": [
        "\n",
        "___\n",
        "**Answer:** \n",
        "___\n"
      ]
    },
    {
      "cell_type": "markdown",
      "metadata": {
        "colab_type": "text",
        "id": "AdwtNbF6k3Zy"
      },
      "source": [
        "(d) **Ex~17.3.11**\n"
      ]
    },
    {
      "cell_type": "markdown",
      "metadata": {
        "colab_type": "text",
        "id": "jnlGqtoJk3Zz"
      },
      "source": [
        "\n",
        "___\n",
        "**Answer:** \n",
        "___\n"
      ]
    },
    {
      "cell_type": "markdown",
      "metadata": {
        "colab_type": "text",
        "id": "s_1Cx0jkk3Z0"
      },
      "source": [
        "(e) **Ex~17.3.12**\n"
      ]
    },
    {
      "cell_type": "markdown",
      "metadata": {
        "colab_type": "text",
        "id": "Fgif9tZqk3Z1"
      },
      "source": [
        "\n",
        "___\n",
        "**Answer:** \n",
        "___\n"
      ]
    }
  ]
}