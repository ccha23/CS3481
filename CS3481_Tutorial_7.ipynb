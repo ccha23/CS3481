{
  "nbformat": 4,
  "nbformat_minor": 0,
  "metadata": {
    "colab": {
      "name": "CS3481 Tutorial 7",
      "provenance": []
    },
    "kernelspec": {
      "name": "python3",
      "display_name": "Python 3"
    }
  },
  "cells": [
    {
      "cell_type": "markdown",
      "metadata": {
        "id": "E3AzlVAZkPCo",
        "colab_type": "text"
      },
      "source": [
        "# Tutorial 7\n",
        "\n",
        "**CS3481 Fundamentals of Data Science**\n",
        "\n",
        "*Semester B 2019/20*\n",
        "___\n",
        "**Instructions:**\n",
        "- same as [Tutorial 1](http://bit.ly/CS3481T1).\n",
        "___"
      ]
    },
    {
      "cell_type": "markdown",
      "metadata": {
        "id": "-tEsb8F0sFdP",
        "colab_type": "text"
      },
      "source": [
        "## Exercise 1 (submit via [uReply](https://cityu.ed2.mobi/student/mobile_index.php) section number **1014**)"
      ]
    },
    {
      "cell_type": "markdown",
      "metadata": {
        "id": "Cq9eL_urVOKc",
        "colab_type": "text"
      },
      "source": [
        "Open both the explorer and boundary visualizer interfaces. Load `iris.2D.arff` and choose `RandomForest` as the classifier."
      ]
    },
    {
      "cell_type": "markdown",
      "metadata": {
        "id": "wFk7jQnlVjQW",
        "colab_type": "text"
      },
      "source": [
        "(a) In the explorer interface, with `numIterations` set to `2` and `printClassifiers` set to `True`, are the returned base classifiers different? Why?"
      ]
    },
    {
      "cell_type": "markdown",
      "metadata": {
        "id": "a4uZljouV066",
        "colab_type": "text"
      },
      "source": [
        "___\n",
        "**Answer:**\n",
        "___"
      ]
    },
    {
      "cell_type": "markdown",
      "metadata": {
        "id": "m85_hnOGWA9w",
        "colab_type": "text"
      },
      "source": [
        "(b) In the boundary visualizer interface, with `numIterations` set to `1` and `100`, compare and explain the differences in the decision boundaries. Use what you observed to explain why weak base classifiers can be combined to form a strong classifier. "
      ]
    },
    {
      "cell_type": "markdown",
      "metadata": {
        "id": "AVlfulG3WwK-",
        "colab_type": "text"
      },
      "source": [
        "___\n",
        "**Answer:**\n",
        "___"
      ]
    },
    {
      "cell_type": "markdown",
      "metadata": {
        "colab_type": "text",
        "id": "LMPOs44OL-Nd"
      },
      "source": [
        "## Exercise 2 (submit via Canvas discussion page)"
      ]
    },
    {
      "cell_type": "markdown",
      "metadata": {
        "id": "1DtOgQ3JU72D",
        "colab_type": "text"
      },
      "source": [
        "For this exercise, use different ensemble methods for the segmentation data in `Interactive Decision Tree Construction` of [Witten11] to get the highest possible accuracy. Follow the tutorial [here](https://machinelearningmastery.com/use-ensemble-machine-learning-algorithms-weka/) to learn to use Bagging, Random Forest, Adaboost, Voting, and Stacking. Post your accuracies on [the discussion page](https://canvas.cityu.edu.hk/courses/32828/discussion_topics/226838) and attach your a knowledgeflow file containing all the model(s). You may use [segment-Adaboost.kf](https://canvas.cityu.edu.hk/courses/32828/files/5491902/download?wrap=1) as a starting point and refer to the [manual](https://www.cs.waikato.ac.nz/ml/weka/Witten_et_al_2016_appendix.pdf) for the use of KnowledgeFlow interface."
      ]
    },
    {
      "cell_type": "markdown",
      "metadata": {
        "id": "iUx5dPQDlqIo",
        "colab_type": "text"
      },
      "source": [
        "## Exercise 3 (Optional)"
      ]
    },
    {
      "cell_type": "markdown",
      "metadata": {
        "id": "wv_OVo9re9TG",
        "colab_type": "text"
      },
      "source": [
        "Explorer the following projects and see if you can get them run on your computer. Share your results on the [discussion page](https://canvas.cityu.edu.hk/courses/32828/discussion_topics/250301)."
      ]
    },
    {
      "cell_type": "markdown",
      "metadata": {
        "id": "RLoOLT3ag9CO",
        "colab_type": "text"
      },
      "source": [
        "### WEKA Deep learning package\n",
        "\n",
        "Use WEKA to train a deep learning for [handwritten digit recognition](https://deeplearning.cms.waikato.ac.nz/examples/classifying-mnist/).\n",
        "\n",
        "**Exercise:** Can ensemble method further boost the performance?\n"
      ]
    },
    {
      "cell_type": "markdown",
      "metadata": {
        "id": "1Zudl-lDfpP5",
        "colab_type": "text"
      },
      "source": [
        "### Real-Time Voice Cloning\n"
      ]
    },
    {
      "cell_type": "markdown",
      "metadata": {
        "id": "QjSd1Ykni4B4",
        "colab_type": "text"
      },
      "source": [
        "Github: https://github.com/CorentinJ/Real-Time-Voice-Cloning"
      ]
    },
    {
      "cell_type": "code",
      "metadata": {
        "id": "JM4FLaXPgScf",
        "colab_type": "code",
        "colab": {
          "base_uri": "https://localhost:8080/",
          "height": 336
        },
        "outputId": "237fa431-167d-4978-92d2-ae5fabda8c6c"
      },
      "source": [
        "%%html\n",
        "<iframe width=\"560\" height=\"315\" src=\"https://www.youtube.com/embed/-O_hYhToKoA\" frameborder=\"0\" allow=\"accelerometer; autoplay; encrypted-media; gyroscope; picture-in-picture\" allowfullscreen></iframe>"
      ],
      "execution_count": 1,
      "outputs": [
        {
          "output_type": "display_data",
          "data": {
            "text/html": [
              "<iframe width=\"560\" height=\"315\" src=\"https://www.youtube.com/embed/-O_hYhToKoA\" frameborder=\"0\" allow=\"accelerometer; autoplay; encrypted-media; gyroscope; picture-in-picture\" allowfullscreen></iframe>"
            ],
            "text/plain": [
              "<IPython.core.display.HTML object>"
            ]
          },
          "metadata": {
            "tags": []
          }
        }
      ]
    },
    {
      "cell_type": "markdown",
      "metadata": {
        "id": "P_nj96JsgpRJ",
        "colab_type": "text"
      },
      "source": [
        "**Exercise:** Can you make it work on colab? (See an attempt [here](https://twitter.com/ak92501/status/1157046193798766592).)"
      ]
    },
    {
      "cell_type": "markdown",
      "metadata": {
        "id": "TrrNgXz2i-Il",
        "colab_type": "text"
      },
      "source": [
        "### WaveNets"
      ]
    },
    {
      "cell_type": "markdown",
      "metadata": {
        "id": "seHGTOTWjMsn",
        "colab_type": "text"
      },
      "source": [
        "DeepMind Demo: https://deepmind.com/blog/article/wavenet-generative-model-raw-audio"
      ]
    },
    {
      "cell_type": "markdown",
      "metadata": {
        "id": "eW2C-_5MjAkm",
        "colab_type": "text"
      },
      "source": [
        "GitHub: https://github.com/r9y9/wavenet_vocoder"
      ]
    },
    {
      "cell_type": "markdown",
      "metadata": {
        "id": "VAbYkZyKjbm5",
        "colab_type": "text"
      },
      "source": [
        "**Exercise:** How to classify the learning task?"
      ]
    }
  ]
}