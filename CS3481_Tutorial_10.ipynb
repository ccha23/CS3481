{
  "nbformat": 4,
  "nbformat_minor": 0,
  "metadata": {
    "colab": {
      "name": "CS3481 Tutorial 10",
      "provenance": []
    },
    "kernelspec": {
      "name": "python3",
      "display_name": "Python 3"
    }
  },
  "cells": [
    {
      "cell_type": "markdown",
      "metadata": {
        "id": "E3AzlVAZkPCo",
        "colab_type": "text"
      },
      "source": [
        "# Tutorial 10\n",
        "\n",
        "**CS3481 Fundamentals of Data Science**\n",
        "\n",
        "*Semester B 2019/20*\n",
        "___\n",
        "**Instructions:**\n",
        "- same as [Tutorial 1](http://bit.ly/CS3481T1).\n",
        "___"
      ]
    },
    {
      "cell_type": "markdown",
      "metadata": {
        "id": "-tEsb8F0sFdP",
        "colab_type": "text"
      },
      "source": [
        "## Exercise 1 (submit via [uReply](https://cityu.ed2.mobi/student/mobile_index.php) section number **LM1158**)"
      ]
    },
    {
      "cell_type": "markdown",
      "metadata": {
        "id": "Cq9eL_urVOKc",
        "colab_type": "text"
      },
      "source": [
        "  For this question, you will use WEKA to cluster the iris dataset. We want to evaluate different clustering algorithms based on whether they can identify the three different types of iris as clusters without looking at the class attribute."
      ]
    },
    {
      "cell_type": "markdown",
      "metadata": {
        "id": "wFk7jQnlVjQW",
        "colab_type": "text"
      },
      "source": [
        "(a) Follow the procedures below to cluster the `iris.2D` dataset.\n",
        "1. Load the iris.2D.arff. \n",
        "1. In the `cluster panel`, choose the $k$-means clustering algorithm by selecting `SimpleKMeans` as the `clusterer`. \n",
        "1. The default number of clusters is $k=2$. Change it to $k=3$ instead, i.e., set `numClusters` to 3. \n",
        "1. To ignore the class attribute, click the `ignore attributes` button below `Cluster mode` and select `class`. \n",
        "1. Run the clustering algorithm. \n",
        "\n",
        "What are the cluster centers and the within cluster sum of squared (WSS) errors?\n"
      ]
    },
    {
      "cell_type": "markdown",
      "metadata": {
        "id": "a4uZljouV066",
        "colab_type": "text"
      },
      "source": [
        "___\n",
        "**Answer:**\n",
        "___"
      ]
    },
    {
      "cell_type": "markdown",
      "metadata": {
        "id": "8dok_xvtxW2m",
        "colab_type": "text"
      },
      "source": [
        "(b) Run again without ignoring the class attribute. Does the within cluster sum of squared error increase? Why?\n",
        "\n",
        "[*Hint: How to calculate the distance between data points with the class attribute?*]"
      ]
    },
    {
      "cell_type": "markdown",
      "metadata": {
        "colab_type": "text",
        "id": "PpQt_zbcJJyT"
      },
      "source": [
        "___\n",
        "**Answer:**\n",
        "___"
      ]
    },
    {
      "cell_type": "markdown",
      "metadata": {
        "id": "26EE-U9VIQT3",
        "colab_type": "text"
      },
      "source": [
        "(c) Right click on your run result (with class attribute ignored) and click `visualize cluster assignments`. Does the $k$-means algorithm appear to return the global optimal solution that minimizes WSS? Can $k$-means algorithm identify the three types of iris?"
      ]
    },
    {
      "cell_type": "markdown",
      "metadata": {
        "id": "AVlfulG3WwK-",
        "colab_type": "text"
      },
      "source": [
        "___\n",
        "**Answer:**\n",
        "___"
      ]
    },
    {
      "cell_type": "markdown",
      "metadata": {
        "id": "i6S-FHB8JlG3",
        "colab_type": "text"
      },
      "source": [
        "(d) Select `classes to clusters evaluation` as the `cluster mode` instead.  What is the percentage of incorrectly clustered instances?  How is this number calculated?"
      ]
    },
    {
      "cell_type": "markdown",
      "metadata": {
        "colab_type": "text",
        "id": "LMPOs44OL-Nd"
      },
      "source": [
        "## Exercise 2 (no submission required)"
      ]
    },
    {
      "cell_type": "markdown",
      "metadata": {
        "id": "UOLid5ZIK2-V",
        "colab_type": "text"
      },
      "source": [
        "For this question, compute the clustering solution by hand for the following dataset using centroid based method with $k=2$.\n",
        "\n",
        "|  |$Z_1$|$Z_2$|\n",
        "|--|-----|-----|\n",
        "|1.|0    |0    |\n",
        "|2.|0    |1    |\n",
        "|3.|1    |0    |\n",
        "|4.|1    |1    |\n",
        "|5.|2    |0    |\n",
        "|6.|2    |1    |"
      ]
    },
    {
      "cell_type": "markdown",
      "metadata": {
        "id": "biNOhkXgNbQv",
        "colab_type": "text"
      },
      "source": [
        "(a) Give the optimal clustering solution (both the cluster centers and cluster assignments) for the data points with min-max normalization on the attributes. What is the minimum WSS?\n"
      ]
    },
    {
      "cell_type": "markdown",
      "metadata": {
        "colab_type": "text",
        "id": "RluyYXcCNszR"
      },
      "source": [
        "___\n",
        "**Answer:**\n",
        "___"
      ]
    },
    {
      "cell_type": "markdown",
      "metadata": {
        "id": "KRDuZujANtyK",
        "colab_type": "text"
      },
      "source": [
        "(b) Is it possible that the $k$-means algorithm fails to converge to the optimal solution? Explain your answer."
      ]
    },
    {
      "cell_type": "markdown",
      "metadata": {
        "colab_type": "text",
        "id": "D8AmEs3ROkmi"
      },
      "source": [
        "___\n",
        "**Answer:**\n",
        "___"
      ]
    },
    {
      "cell_type": "markdown",
      "metadata": {
        "id": "GrBmr211PNXk",
        "colab_type": "text"
      },
      "source": [
        "(c) Does the optimal clustering solution remain unchanged without min-max normalization on the attributes? If not, give the optimal solution."
      ]
    },
    {
      "cell_type": "markdown",
      "metadata": {
        "colab_type": "text",
        "id": "nAx-YsXYPtGQ"
      },
      "source": [
        "___\n",
        "**Answer:**\n",
        "___"
      ]
    },
    {
      "cell_type": "markdown",
      "metadata": {
        "id": "iUx5dPQDlqIo",
        "colab_type": "text"
      },
      "source": [
        "## Exercise 3 (Optional)"
      ]
    },
    {
      "cell_type": "markdown",
      "metadata": {
        "id": "rMzQWBfQQV3f",
        "colab_type": "text"
      },
      "source": [
        "Generate the `iris.2D` dataset."
      ]
    },
    {
      "cell_type": "code",
      "metadata": {
        "id": "vP5IRxSgYiqv",
        "colab_type": "code",
        "outputId": "f0fd29dc-0855-429e-901c-db89c5e1b32b",
        "colab": {
          "base_uri": "https://localhost:8080/",
          "height": 34
        }
      },
      "source": [
        "from sklearn import datasets\n",
        "\n",
        "iris = datasets.load_iris()\n",
        "X = iris['data'][:,[0,2]]\n",
        "Y = iris['target']\n",
        "\n",
        "X.shape, Y.shape # show the dimensions of the input features and target"
      ],
      "execution_count": 0,
      "outputs": [
        {
          "output_type": "execute_result",
          "data": {
            "text/plain": [
              "((150, 2), (150,))"
            ]
          },
          "metadata": {
            "tags": []
          },
          "execution_count": 17
        }
      ]
    },
    {
      "cell_type": "markdown",
      "metadata": {
        "id": "48jCv9jzXODP",
        "colab_type": "text"
      },
      "source": [
        "Apply min-max normalization to the input attributes."
      ]
    },
    {
      "cell_type": "code",
      "metadata": {
        "id": "L9ldoKQIWiiM",
        "colab_type": "code",
        "outputId": "40763c2d-be51-4a16-e6a3-0e562094ad23",
        "colab": {
          "base_uri": "https://localhost:8080/",
          "height": 34
        }
      },
      "source": [
        "from sklearn.preprocessing import MinMaxScaler\n",
        "import numpy as np\n",
        "minmax_norm = MinMaxScaler()\n",
        "X_ = minmax_norm.fit_transform(X)\n",
        "np.min(X_,axis=0), np.max(X_,axis=0)"
      ],
      "execution_count": 0,
      "outputs": [
        {
          "output_type": "execute_result",
          "data": {
            "text/plain": [
              "(array([0., 0., 0., 0.]), array([1., 1., 1., 1.]))"
            ]
          },
          "metadata": {
            "tags": []
          },
          "execution_count": 16
        }
      ]
    },
    {
      "cell_type": "markdown",
      "metadata": {
        "id": "oIiMWPkvWdVD",
        "colab_type": "text"
      },
      "source": [
        "Apply the $k$-means clustering algorithm. (Note that, by default, $k$-means++ is used to intelligently select initial cluster centers far away from each other to speed up convergence.)"
      ]
    },
    {
      "cell_type": "code",
      "metadata": {
        "id": "rG75RVN_Sge6",
        "colab_type": "code",
        "outputId": "6814ecb2-8caf-42e7-8bf9-99d66d368086",
        "colab": {
          "base_uri": "https://localhost:8080/",
          "height": 67
        }
      },
      "source": [
        "from sklearn.cluster import KMeans\n",
        "kmeans_clr = KMeans(n_clusters=3)\n",
        "kmeans_clr.fit(X_)"
      ],
      "execution_count": 0,
      "outputs": [
        {
          "output_type": "execute_result",
          "data": {
            "text/plain": [
              "KMeans(algorithm='auto', copy_x=True, init='k-means++', max_iter=300,\n",
              "       n_clusters=3, n_init=10, n_jobs=None, precompute_distances='auto',\n",
              "       random_state=None, tol=0.0001, verbose=0)"
            ]
          },
          "metadata": {
            "tags": []
          },
          "execution_count": 20
        }
      ]
    },
    {
      "cell_type": "markdown",
      "metadata": {
        "id": "zx8fMN0knF2E",
        "colab_type": "text"
      },
      "source": [
        "Plot the clusters and compare it to the ground truth."
      ]
    },
    {
      "cell_type": "code",
      "metadata": {
        "id": "wafZa3s4UJuN",
        "colab_type": "code",
        "outputId": "9c4a8133-6c3f-4c62-8f4b-af4ef528d3e7",
        "colab": {
          "base_uri": "https://localhost:8080/",
          "height": 298
        }
      },
      "source": [
        "import matplotlib.pyplot as plt\n",
        "plt.figure()\n",
        "plt.subplot(121)\n",
        "plt.scatter(X[:,0],X[:,1],c=kmeans_clr.labels_)\n",
        "plt.title(\"Cluster assignment\")\n",
        "plt.subplot(122)\n",
        "plt.scatter(X[:,0],X[:,1],c=Y)\n",
        "plt.title(\"Class (ground truth)\")"
      ],
      "execution_count": 0,
      "outputs": [
        {
          "output_type": "execute_result",
          "data": {
            "text/plain": [
              "Text(0.5, 1.0, 'Class (ground truth)')"
            ]
          },
          "metadata": {
            "tags": []
          },
          "execution_count": 25
        },
        {
          "output_type": "display_data",
          "data": {
            "image/png": "[encoded data removed]",
            "text/plain": [
              "<Figure size 432x288 with 2 Axes>"
            ]
          },
          "metadata": {
            "tags": []
          }
        }
      ]
    },
    {
      "cell_type": "markdown",
      "metadata": {
        "id": "7KrAmLMldsBf",
        "colab_type": "text"
      },
      "source": [
        "**Exercise** Return the accuracy using class-to-cluster evaluation."
      ]
    },
    {
      "cell_type": "markdown",
      "metadata": {
        "id": "ojwzak3gd8Jk",
        "colab_type": "text"
      },
      "source": [
        "**Exercise** Verify your answer to Exercise 2."
      ]
    }
  ]
}