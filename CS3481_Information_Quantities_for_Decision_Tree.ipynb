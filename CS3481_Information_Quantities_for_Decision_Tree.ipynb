{
  "nbformat": 4,
  "nbformat_minor": 0,
  "metadata": {
    "colab": {
      "name": "CS3481 Information Quantities for Decision Tree",
      "provenance": []
    },
    "kernelspec": {
      "name": "python3",
      "display_name": "Python 3"
    }
  },
  "cells": [
    {
      "cell_type": "markdown",
      "metadata": {
        "id": "XTY_4pfgBr1N",
        "colab_type": "text"
      },
      "source": [
        "# Information Quantities for Decision Tree\n",
        "In this notebook, we will use the [`dit` package](https://dit.readthedocs.io/en/latest/) to compute some basic information quantities used in the decision tree algorithms. A quick reference of Shannon's information measures are given in the last section."
      ]
    },
    {
      "cell_type": "markdown",
      "metadata": {
        "id": "w0ay6SD0jnhg",
        "colab_type": "text"
      },
      "source": [
        "Install and load required packages."
      ]
    },
    {
      "cell_type": "code",
      "metadata": {
        "id": "1X6nFu6z35yc",
        "colab_type": "code",
        "colab": {}
      },
      "source": [
        "!pip install dit # install the package"
      ],
      "execution_count": 0,
      "outputs": []
    },
    {
      "cell_type": "code",
      "metadata": {
        "id": "QhNHaciLjjgh",
        "colab_type": "code",
        "colab": {}
      },
      "source": [
        "import dit       # load the package\n",
        "from dit.shannon import entropy, conditional_entropy, mutual_information\n",
        "from IPython.display import display, Markdown, Math, HTML # To pretty print on screen.\n",
        "import matplotlib.pyplot as plt"
      ],
      "execution_count": 0,
      "outputs": []
    },
    {
      "cell_type": "markdown",
      "metadata": {
        "id": "YeHASqF72jzP",
        "colab_type": "text"
      },
      "source": [
        "The following is needed for rending Mathjax in Colab output cells. (Click [here](https://github.com/googlecolab/colabtools/issues/594) for details.)"
      ]
    },
    {
      "cell_type": "code",
      "metadata": {
        "id": "aWU68xnL1ij8",
        "colab_type": "code",
        "colab": {}
      },
      "source": [
        "def typeset():\n",
        "  \"\"\"MathJax initialization for the current cell.\n",
        "  \"\"\"\n",
        "  display(HTML('''\n",
        "    <script src='https://www.gstatic.com/external_hosted/mathjax/latest/MathJax.js?config=TeX-AMS_HTML-full,Safe&delayStartupUntil=configured'></script>\n",
        "    <script>\n",
        "        (() => {\n",
        "          const mathjax = window.MathJax;\n",
        "          mathjax.Hub.Config({\n",
        "          'tex2jax': {\n",
        "            'inlineMath': [['$', '$'], ['\\\\(', '\\\\)']],\n",
        "            'displayMath': [['$$', '$$'], ['\\\\[', '\\\\]']],\n",
        "            'processEscapes': true,\n",
        "            'processEnvironments': true,\n",
        "            'skipTags': ['script', 'noscript', 'style', 'textarea', 'code'],\n",
        "            'displayAlign': 'center',\n",
        "          },\n",
        "          'HTML-CSS': {\n",
        "            'styles': {'.MathJax_Display': {'margin': 0}},\n",
        "            'linebreaks': {'automatic': true},\n",
        "            // Disable to prevent OTF font loading, which aren't part of our\n",
        "            // distribution.\n",
        "            'imageFont': null,\n",
        "          },\n",
        "          'messageStyle': 'none'\n",
        "        });\n",
        "        mathjax.Hub.Configured();\n",
        "      })();\n",
        "      </script>\n",
        "      '''))"
      ],
      "execution_count": 0,
      "outputs": []
    },
    {
      "cell_type": "markdown",
      "metadata": {
        "id": "G9P9L1KjhG5r",
        "colab_type": "text"
      },
      "source": [
        "## Entropy of a distribution"
      ]
    },
    {
      "cell_type": "markdown",
      "metadata": {
        "id": "ikM1TaHQCTYF",
        "colab_type": "text"
      },
      "source": [
        "Create a distribution:\n",
        "\\begin{align}\n",
        "p_k=\\begin{cases}\n",
        "\\frac12 & k=0\\\\\n",
        "\\frac14 & k=1,2\\\\\n",
        "0 & \\text{otherwise.}\n",
        "\\end{cases}\n",
        "\\end{align}"
      ]
    },
    {
      "cell_type": "code",
      "metadata": {
        "id": "FVYYFBoT4Gds",
        "colab_type": "code",
        "outputId": "3f9ef9f4-ac14-4b9c-c9ca-267a294647ae",
        "colab": {
          "base_uri": "https://localhost:8080/",
          "height": 283
        }
      },
      "source": [
        "p = dit.Distribution(['0', '1', '2', '3'], [1/2, 1/4, 1/4, 0])\n",
        "\n",
        "plt.stem(p.outcomes,p.pmf,use_line_collection=True)\n",
        "plt.xlabel('k')\n",
        "plt.ylabel(r'$p_k$')\n",
        "plt.ylim((0,1))\n",
        "plt.show()"
      ],
      "execution_count": 0,
      "outputs": [
        {
          "output_type": "display_data",
          "data": {
            "image/png": "[encoded data removed]",
            "text/plain": [
              "<Figure size 432x288 with 1 Axes>"
            ]
          },
          "metadata": {
            "tags": []
          }
        }
      ]
    },
    {
      "cell_type": "markdown",
      "metadata": {
        "id": "FZ4P2NZ1EuKy",
        "colab_type": "text"
      },
      "source": [
        "The entropy of the distribution can be computed as follows:"
      ]
    },
    {
      "cell_type": "code",
      "metadata": {
        "id": "dn7h5u8Y4nba",
        "colab_type": "code",
        "outputId": "2b95fb74-1b54-48ae-8575-92147dae7e23",
        "colab": {
          "base_uri": "https://localhost:8080/",
          "height": 36
        }
      },
      "source": [
        "typeset()\n",
        "display(Math(r'h(p_1,p_2,\\dots)={}'.format(entropy(p))))"
      ],
      "execution_count": 0,
      "outputs": [
        {
          "output_type": "display_data",
          "data": {
            "text/html": [
              "\n",
              "    <script src='https://www.gstatic.com/external_hosted/mathjax/latest/MathJax.js?config=TeX-AMS_HTML-full,Safe&delayStartupUntil=configured'></script>\n",
              "    <script>\n",
              "        (() => {\n",
              "          const mathjax = window.MathJax;\n",
              "          mathjax.Hub.Config({\n",
              "          'tex2jax': {\n",
              "            'inlineMath': [['$', '$'], ['\\(', '\\)']],\n",
              "            'displayMath': [['$$', '$$'], ['\\[', '\\]']],\n",
              "            'processEscapes': true,\n",
              "            'processEnvironments': true,\n",
              "            'skipTags': ['script', 'noscript', 'style', 'textarea', 'code'],\n",
              "            'displayAlign': 'center',\n",
              "          },\n",
              "          'HTML-CSS': {\n",
              "            'styles': {'.MathJax_Display': {'margin': 0}},\n",
              "            'linebreaks': {'automatic': true},\n",
              "            // Disable to prevent OTF font loading, which aren't part of our\n",
              "            // distribution.\n",
              "            'imageFont': null,\n",
              "          },\n",
              "          'messageStyle': 'none'\n",
              "        });\n",
              "        mathjax.Hub.Configured();\n",
              "      })();\n",
              "      </script>\n",
              "      "
            ],
            "text/plain": [
              "<IPython.core.display.HTML object>"
            ]
          },
          "metadata": {
            "tags": []
          }
        },
        {
          "output_type": "execute_result",
          "data": {
            "text/latex": "$$h(p_1,p_2,\\dots)=1.5$$",
            "text/plain": [
              "<IPython.core.display.Math object>"
            ]
          },
          "metadata": {
            "tags": []
          },
          "execution_count": 54
        }
      ]
    },
    {
      "cell_type": "markdown",
      "metadata": {
        "id": "DgJr7LEh3Q73",
        "colab_type": "text"
      },
      "source": [
        "## Quality of splitting attributes"
      ]
    },
    {
      "cell_type": "markdown",
      "metadata": {
        "id": "uN-X7rnwaXs3",
        "colab_type": "text"
      },
      "source": [
        "Dataset $D$ from the lecture (Slide 19)."
      ]
    },
    {
      "cell_type": "markdown",
      "metadata": {
        "id": "e862QugV2kq4",
        "colab_type": "text"
      },
      "source": [
        "|$X_1$|$X_2$|$X_3$|$X_4$|$Y$|\n",
        "|-----|-----|-----|-----|---|\n",
        "|0    |0    |0    |00   |0  |\n",
        "|0    |0    |0    |00   |0  |\n",
        "|0    |0    |1    |01   |1  |\n",
        "|1    |0    |1    |11   |1  |\n",
        "|0    |1    |0    |00   |2  |\n",
        "|1    |1    |0    |10   |2  |\n",
        "|1    |1    |1    |11   |3  |\n",
        "|1    |1    |1    |11   |3  |"
      ]
    },
    {
      "cell_type": "markdown",
      "metadata": {
        "id": "IbX75t7zamH_",
        "colab_type": "text"
      },
      "source": [
        "Create a uniform distribution over the instances in $D$."
      ]
    },
    {
      "cell_type": "code",
      "metadata": {
        "id": "GfTt04DT4ldN",
        "colab_type": "code",
        "outputId": "7e17c95e-50c6-434d-d9fd-227750273c18",
        "colab": {
          "base_uri": "https://localhost:8080/",
          "height": 195
        }
      },
      "source": [
        "d = dit.uniform([('0','0','0','00','0'),\n",
        "                 ('0','0','0','00','0'),\n",
        "                 ('0','0','1','01','1'),\n",
        "                 ('1','0','1','11','1'),\n",
        "                 ('0','1','0','00','2'),\n",
        "                 ('1','1','0','10','2'),\n",
        "                 ('1','1','1','11','3'),\n",
        "                 ('1','1','1','11','3')])\n",
        "d.set_rv_names(('X1','X2','X3','X4','Y'))\n",
        "d"
      ],
      "execution_count": 0,
      "outputs": [
        {
          "output_type": "execute_result",
          "data": {
            "text/html": [
              "<div><div style=\"float: left\"><table border=\"1\"><tr><th>Class:</th><td>Distribution</td></tr><tr><th>Alphabet:</th><td>(('0', '1'), ('0', '1'), ('0', '1'), ('00', '01', '10', '11'), ('0', '1', '2', '3'))</td></tr><tr><th>Base:</th><td>linear</td></tr><tr><th>Outcome Class:</th><td>tuple</td></tr><tr><th>Outcome Lenght:</th><td>5</td></tr></table></div><div style=\"float: left\"><table><tr><th>X1</th><th>X2</th><th>X3</th><th>X4</th><th>Y</th><th>p(x)</th></tr><tr><td>0</td><td>0</td><td>0</td><td>00</td><td>0</td><td>0.125</td></tr><tr><td>0</td><td>0</td><td>0</td><td>00</td><td>0</td><td>0.125</td></tr><tr><td>0</td><td>0</td><td>1</td><td>01</td><td>1</td><td>0.125</td></tr><tr><td>0</td><td>1</td><td>0</td><td>00</td><td>2</td><td>0.125</td></tr><tr><td>1</td><td>0</td><td>1</td><td>11</td><td>1</td><td>0.125</td></tr><tr><td>1</td><td>1</td><td>0</td><td>10</td><td>2</td><td>0.125</td></tr><tr><td>1</td><td>1</td><td>1</td><td>11</td><td>3</td><td>0.125</td></tr><tr><td>1</td><td>1</td><td>1</td><td>11</td><td>3</td><td>0.125</td></tr></table></div></div>"
            ],
            "text/plain": [
              "<dit.npdist.Distribution object at 0x7fbcc83a1470>"
            ]
          },
          "metadata": {
            "tags": []
          },
          "execution_count": 94
        }
      ]
    },
    {
      "cell_type": "markdown",
      "metadata": {
        "id": "yXu-arssa0jc",
        "colab_type": "text"
      },
      "source": [
        "Calculate $\\text{Info}(D)$ and $\\text{Info}_{X_i}(D)$ for $i=\\{1,2,3,4\\}$ as the entropy $H(Y)$ and conditional entropies $H(Y|X_i)$'s respectively. "
      ]
    },
    {
      "cell_type": "code",
      "metadata": {
        "id": "LmoX9sN8b1K7",
        "colab_type": "code",
        "colab": {}
      },
      "source": [
        "InfoD = entropy(d,['Y'])\n",
        "InfoX1D = conditional_entropy(d,['Y'],['X1'])\n",
        "InfoX2D = conditional_entropy(d,['Y'],['X2'])\n",
        "InfoX3D = conditional_entropy(d,['Y'],['X3'])\n",
        "InfoX4D = conditional_entropy(d,['Y'],['X4'])"
      ],
      "execution_count": 0,
      "outputs": []
    },
    {
      "cell_type": "code",
      "metadata": {
        "id": "DMbJjPdqATif",
        "colab_type": "code",
        "outputId": "47ebe01d-3f75-46e8-aa9c-298ba744f541",
        "colab": {
          "base_uri": "https://localhost:8080/",
          "height": 128
        }
      },
      "source": [
        "typeset()\n",
        "Math(r'''\n",
        "\\begin{{aligned}}\n",
        "\\text{{Info}}(D)&={}\\\\\n",
        "\\text{{Info}}_{{X_1}}(D)&={:.3g}\\\\\n",
        "\\text{{Info}}_{{X_2}}(D)&={:.3g}\\\\\n",
        "\\text{{Info}}_{{X_3}}(D)&={:.3g}\\\\\n",
        "\\text{{Info}}_{{X_4}}(D)&={:.3g}\\\\\n",
        "\\end{{aligned}}\n",
        "'''.format(InfoD,InfoX1D,InfoX2D,InfoX3D,InfoX4D))"
      ],
      "execution_count": 0,
      "outputs": [
        {
          "output_type": "display_data",
          "data": {
            "text/html": [
              "\n",
              "    <script src='https://www.gstatic.com/external_hosted/mathjax/latest/MathJax.js?config=TeX-AMS_HTML-full,Safe&delayStartupUntil=configured'></script>\n",
              "    <script>\n",
              "        (() => {\n",
              "          const mathjax = window.MathJax;\n",
              "          mathjax.Hub.Config({\n",
              "          'tex2jax': {\n",
              "            'inlineMath': [['$', '$'], ['\\(', '\\)']],\n",
              "            'displayMath': [['$$', '$$'], ['\\[', '\\]']],\n",
              "            'processEscapes': true,\n",
              "            'processEnvironments': true,\n",
              "            'skipTags': ['script', 'noscript', 'style', 'textarea', 'code'],\n",
              "            'displayAlign': 'center',\n",
              "          },\n",
              "          'HTML-CSS': {\n",
              "            'styles': {'.MathJax_Display': {'margin': 0}},\n",
              "            'linebreaks': {'automatic': true},\n",
              "            // Disable to prevent OTF font loading, which aren't part of our\n",
              "            // distribution.\n",
              "            'imageFont': null,\n",
              "          },\n",
              "          'messageStyle': 'none'\n",
              "        });\n",
              "        mathjax.Hub.Configured();\n",
              "      })();\n",
              "      </script>\n",
              "      "
            ],
            "text/plain": [
              "<IPython.core.display.HTML object>"
            ]
          },
          "metadata": {
            "tags": []
          }
        },
        {
          "output_type": "execute_result",
          "data": {
            "text/latex": "$$\n\\begin{aligned}\n\\text{Info}(D)&=2.0\\\\\n\\text{Info}_{X_1}(D)&=1.5\\\\\n\\text{Info}_{X_2}(D)&=1\\\\\n\\text{Info}_{X_3}(D)&=1\\\\\n\\text{Info}_{X_4}(D)&=0.689\\\\\n\\end{aligned}\n$$",
            "text/plain": [
              "<IPython.core.display.Math object>"
            ]
          },
          "metadata": {
            "tags": []
          },
          "execution_count": 102
        }
      ]
    },
    {
      "cell_type": "markdown",
      "metadata": {
        "id": "8dokVqpfgqJj",
        "colab_type": "text"
      },
      "source": [
        "Calculate $\\text{SplitInfo}_{X_i}(D)$ as $H(X_i)$."
      ]
    },
    {
      "cell_type": "code",
      "metadata": {
        "id": "kHkHrU4Ggpig",
        "colab_type": "code",
        "colab": {}
      },
      "source": [
        "SplitInfoX1D = entropy(d,['X1'])\n",
        "SplitInfoX2D = entropy(d,['X2'])\n",
        "SplitInfoX3D = entropy(d,['X3'])\n",
        "SplitInfoX4D = entropy(d,['X4'])"
      ],
      "execution_count": 0,
      "outputs": []
    },
    {
      "cell_type": "code",
      "metadata": {
        "colab_type": "code",
        "outputId": "5ae909bb-e8a9-4319-ef8a-3ff34fd70f71",
        "id": "GNYTyk-fhsEO",
        "colab": {
          "base_uri": "https://localhost:8080/",
          "height": 111
        }
      },
      "source": [
        "typeset()\n",
        "Math(r'''\n",
        "\\begin{{aligned}}\n",
        "\\text{{SplitInfo}}_{{X_1}}(D)&={:.3g}\\\\\n",
        "\\text{{SplitInfo}}_{{X_2}}(D)&={:.3g}\\\\\n",
        "\\text{{SplitInfo}}_{{X_3}}(D)&={:.3g}\\\\\n",
        "\\text{{SplitInfo}}_{{X_4}}(D)&={:.3g}\\\\\n",
        "\\end{{aligned}}\n",
        "'''.format(SplitInfoX1D,SplitInfoX2D,SplitInfoX3D,SplitInfoX4D))"
      ],
      "execution_count": 0,
      "outputs": [
        {
          "output_type": "display_data",
          "data": {
            "text/html": [
              "\n",
              "    <script src='https://www.gstatic.com/external_hosted/mathjax/latest/MathJax.js?config=TeX-AMS_HTML-full,Safe&delayStartupUntil=configured'></script>\n",
              "    <script>\n",
              "        (() => {\n",
              "          const mathjax = window.MathJax;\n",
              "          mathjax.Hub.Config({\n",
              "          'tex2jax': {\n",
              "            'inlineMath': [['$', '$'], ['\\(', '\\)']],\n",
              "            'displayMath': [['$$', '$$'], ['\\[', '\\]']],\n",
              "            'processEscapes': true,\n",
              "            'processEnvironments': true,\n",
              "            'skipTags': ['script', 'noscript', 'style', 'textarea', 'code'],\n",
              "            'displayAlign': 'center',\n",
              "          },\n",
              "          'HTML-CSS': {\n",
              "            'styles': {'.MathJax_Display': {'margin': 0}},\n",
              "            'linebreaks': {'automatic': true},\n",
              "            // Disable to prevent OTF font loading, which aren't part of our\n",
              "            // distribution.\n",
              "            'imageFont': null,\n",
              "          },\n",
              "          'messageStyle': 'none'\n",
              "        });\n",
              "        mathjax.Hub.Configured();\n",
              "      })();\n",
              "      </script>\n",
              "      "
            ],
            "text/plain": [
              "<IPython.core.display.HTML object>"
            ]
          },
          "metadata": {
            "tags": []
          }
        },
        {
          "output_type": "execute_result",
          "data": {
            "text/latex": "$$\n\\begin{aligned}\n\\text{SplitInfo}_{X_1}(D)&=1\\\\\n\\text{SplitInfo}_{X_2}(D)&=1\\\\\n\\text{SplitInfo}_{X_3}(D)&=1\\\\\n\\text{SplitInfo}_{X_4}(D)&=1.81\\\\\n\\end{aligned}\n$$",
            "text/plain": [
              "<IPython.core.display.Math object>"
            ]
          },
          "metadata": {
            "tags": []
          },
          "execution_count": 107
        }
      ]
    },
    {
      "cell_type": "markdown",
      "metadata": {
        "id": "Q3SXGvDWiLm2",
        "colab_type": "text"
      },
      "source": [
        "Calculate the information gain $\\text{Gain}_{X_i}(D)$ as the mutual information $I(X_i;Y):=H(Y)-H(Y|X_i)$."
      ]
    },
    {
      "cell_type": "code",
      "metadata": {
        "id": "DlM6oI18jdV4",
        "colab_type": "code",
        "colab": {}
      },
      "source": [
        "GainX1D = mutual_information(d,['X1'],['Y'])\n",
        "GainX2D = mutual_information(d,['X2'],['Y'])\n",
        "GainX3D = mutual_information(d,['X3'],['Y'])\n",
        "GainX4D = mutual_information(d,['X4'],['Y'])"
      ],
      "execution_count": 0,
      "outputs": []
    },
    {
      "cell_type": "code",
      "metadata": {
        "colab_type": "code",
        "outputId": "3a2b9b16-e455-49e9-b5c0-09d9226411b1",
        "id": "fujx6RVyjO4u",
        "colab": {
          "base_uri": "https://localhost:8080/",
          "height": 105
        }
      },
      "source": [
        "typeset()\n",
        "Math(r'''\n",
        "\\begin{{aligned}}\n",
        "\\text{{Gain}}_{{X_1}}(D)&={:.3g}\\\\\n",
        "\\text{{Gain}}_{{X_2}}(D)&={:.3g}\\\\\n",
        "\\text{{Gain}}_{{X_3}}(D)&={:.3g}\\\\\n",
        "\\text{{Gain}}_{{X_4}}(D)&={:.3g}\\\\\n",
        "\\end{{aligned}}\n",
        "'''.format(GainX1D,GainX2D,GainX3D,GainX4D))"
      ],
      "execution_count": 0,
      "outputs": [
        {
          "output_type": "display_data",
          "data": {
            "text/html": [
              "\n",
              "    <script src='https://www.gstatic.com/external_hosted/mathjax/latest/MathJax.js?config=TeX-AMS_HTML-full,Safe&delayStartupUntil=configured'></script>\n",
              "    <script>\n",
              "        (() => {\n",
              "          const mathjax = window.MathJax;\n",
              "          mathjax.Hub.Config({\n",
              "          'tex2jax': {\n",
              "            'inlineMath': [['$', '$'], ['\\(', '\\)']],\n",
              "            'displayMath': [['$$', '$$'], ['\\[', '\\]']],\n",
              "            'processEscapes': true,\n",
              "            'processEnvironments': true,\n",
              "            'skipTags': ['script', 'noscript', 'style', 'textarea', 'code'],\n",
              "            'displayAlign': 'center',\n",
              "          },\n",
              "          'HTML-CSS': {\n",
              "            'styles': {'.MathJax_Display': {'margin': 0}},\n",
              "            'linebreaks': {'automatic': true},\n",
              "            // Disable to prevent OTF font loading, which aren't part of our\n",
              "            // distribution.\n",
              "            'imageFont': null,\n",
              "          },\n",
              "          'messageStyle': 'none'\n",
              "        });\n",
              "        mathjax.Hub.Configured();\n",
              "      })();\n",
              "      </script>\n",
              "      "
            ],
            "text/plain": [
              "<IPython.core.display.HTML object>"
            ]
          },
          "metadata": {
            "tags": []
          }
        },
        {
          "output_type": "execute_result",
          "data": {
            "text/latex": "$$\n\\begin{aligned}\n\\text{Gain}_{X_1}(D)&=0.5\\\\\n\\text{Gain}_{X_2}(D)&=1\\\\\n\\text{Gain}_{X_3}(D)&=1\\\\\n\\text{Gain}_{X_4}(D)&=1.31\\\\\n\\end{aligned}\n$$",
            "text/plain": [
              "<IPython.core.display.Math object>"
            ]
          },
          "metadata": {
            "tags": []
          },
          "execution_count": 109
        }
      ]
    },
    {
      "cell_type": "markdown",
      "metadata": {
        "id": "4JG6tZKCkE5c",
        "colab_type": "text"
      },
      "source": [
        "Calculate the information gain ratios:"
      ]
    },
    {
      "cell_type": "code",
      "metadata": {
        "id": "J2QxL87bkEXu",
        "colab_type": "code",
        "outputId": "3b97aaae-13ad-40a7-9eb0-c97b2ad12249",
        "colab": {
          "base_uri": "https://localhost:8080/",
          "height": 207
        }
      },
      "source": [
        "typeset()\n",
        "Math(r'''\n",
        "\\begin{{aligned}}\n",
        "\\frac{{\\text{{Gain}}_{{X_1}}(D)}}{{\\text{{SplitInfo}}_{{X_1}}(D)}}&={:.3g}\\\\\n",
        "\\frac{{\\text{{Gain}}_{{X_2}}(D)}}{{\\text{{SplitInfo}}_{{X_2}}(D)}}&={:.3g}\\\\\n",
        "\\frac{{\\text{{Gain}}_{{X_3}}(D)}}{{\\text{{SplitInfo}}_{{X_3}}(D)}}&={:.3g}\\\\\n",
        "\\frac{{\\text{{Gain}}_{{X_4}}(D)}}{{\\text{{SplitInfo}}_{{X_4}}(D)}}&={:.3g}\\\\\n",
        "\\end{{aligned}}\n",
        "'''.format(GainX1D/SplitInfoX1D,GainX2D/SplitInfoX2D,GainX3D/SplitInfoX3D,GainX4D/SplitInfoX4D))"
      ],
      "execution_count": 0,
      "outputs": [
        {
          "output_type": "display_data",
          "data": {
            "text/html": [
              "\n",
              "    <script src='https://www.gstatic.com/external_hosted/mathjax/latest/MathJax.js?config=TeX-AMS_HTML-full,Safe&delayStartupUntil=configured'></script>\n",
              "    <script>\n",
              "        (() => {\n",
              "          const mathjax = window.MathJax;\n",
              "          mathjax.Hub.Config({\n",
              "          'tex2jax': {\n",
              "            'inlineMath': [['$', '$'], ['\\(', '\\)']],\n",
              "            'displayMath': [['$$', '$$'], ['\\[', '\\]']],\n",
              "            'processEscapes': true,\n",
              "            'processEnvironments': true,\n",
              "            'skipTags': ['script', 'noscript', 'style', 'textarea', 'code'],\n",
              "            'displayAlign': 'center',\n",
              "          },\n",
              "          'HTML-CSS': {\n",
              "            'styles': {'.MathJax_Display': {'margin': 0}},\n",
              "            'linebreaks': {'automatic': true},\n",
              "            // Disable to prevent OTF font loading, which aren't part of our\n",
              "            // distribution.\n",
              "            'imageFont': null,\n",
              "          },\n",
              "          'messageStyle': 'none'\n",
              "        });\n",
              "        mathjax.Hub.Configured();\n",
              "      })();\n",
              "      </script>\n",
              "      "
            ],
            "text/plain": [
              "<IPython.core.display.HTML object>"
            ]
          },
          "metadata": {
            "tags": []
          }
        },
        {
          "output_type": "execute_result",
          "data": {
            "text/latex": "$$\n\\begin{aligned}\n\\frac{\\text{Gain}_{X_1}(D)}{\\text{SplitInfo}_{X_1}(D)}&=0.5\\\\\n\\frac{\\text{Gain}_{X_2}(D)}{\\text{SplitInfo}_{X_2}(D)}&=1\\\\\n\\frac{\\text{Gain}_{X_3}(D)}{\\text{SplitInfo}_{X_3}(D)}&=1\\\\\n\\frac{\\text{Gain}_{X_4}(D)}{\\text{SplitInfo}_{X_4}(D)}&=0.724\\\\\n\\end{aligned}\n$$",
            "text/plain": [
              "<IPython.core.display.Math object>"
            ]
          },
          "metadata": {
            "tags": []
          },
          "execution_count": 110
        }
      ]
    },
    {
      "cell_type": "markdown",
      "metadata": {
        "id": "d5sMdEoxlDSd",
        "colab_type": "text"
      },
      "source": [
        "## A summary of Shannon's information measures"
      ]
    },
    {
      "cell_type": "markdown",
      "metadata": {
        "id": "jTDX7mgmu8wS",
        "colab_type": "text"
      },
      "source": [
        "Definitions:"
      ]
    },
    {
      "cell_type": "markdown",
      "metadata": {
        "id": "xQRUtvyiHbtI",
        "colab_type": "text"
      },
      "source": [
        "\\begin{align}\n",
        "H(Y) &= E\\left[\\log \\tfrac1{P_{Y}(Y)}\\right] && \\text{entropy of $Y$}\\\\\n",
        "H(Y|X) &= E\\left[\\log \\tfrac1{P_{Y|X}(Y|X)}\\right] && \\text{conditional entropy of $Y$ given $X$}\\\\\n",
        "I(X;Y) &= E\\left[\\log \\tfrac{P_{Y|X}(Y|X)}{P_Y(Y)}\\right] && \\text{mutual information of $X$ and $Y$}\\\\\n",
        "\\end{align}"
      ]
    },
    {
      "cell_type": "markdown",
      "metadata": {
        "id": "foadD_mku2re",
        "colab_type": "text"
      },
      "source": [
        "Relationships among the information mesaures:"
      ]
    },
    {
      "cell_type": "markdown",
      "metadata": {
        "id": "Lev7cJ__NnLE",
        "colab_type": "text"
      },
      "source": [
        "\\begin{align}\n",
        "H(X,Y)&=H(X)+H(Y|X) && \\text{chain rule of entropy}\\\\\n",
        "&=H(Y)+H(X|Y)\\\\\n",
        "I(X;Y)&=H(Y)-H(Y|X) && \\text{equivalent definitions of mutual information in terms of entropies}\\\\\n",
        "&=H(X)+H(Y)-H(X,Y)\\\\\n",
        "&=H(X)-H(X|Y)\n",
        "\\end{align}"
      ]
    },
    {
      "cell_type": "markdown",
      "metadata": {
        "id": "kbQPKdgUxjjM",
        "colab_type": "text"
      },
      "source": [
        "![Information diagram](https://upload.wikimedia.org/wikipedia/commons/d/d4/Entropy-mutual-information-relative-entropy-relation-diagram.svg)"
      ]
    }
  ]
}