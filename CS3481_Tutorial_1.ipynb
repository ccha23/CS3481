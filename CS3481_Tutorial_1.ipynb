{
  "nbformat": 4,
  "nbformat_minor": 0,
  "metadata": {
    "colab": {
      "name": "CS3481 Tutorial 1",
      "provenance": [],
      "collapsed_sections": [],
      "toc_visible": true
    },
    "kernelspec": {
      "name": "python3",
      "display_name": "Python 3"
    }
  },
  "cells": [
    {
      "cell_type": "markdown",
      "metadata": {
        "id": "W2eM_KksUaCA",
        "colab_type": "text"
      },
      "source": [
        "# Tutorial 1\n",
        "\n",
        "**CS3481 Fundamentals of Data Science**\n",
        "\n",
        "*Semester B 2019/20*\n",
        "___\n",
        "**Instructions:**\n",
        "- Tutorial exercises are not graded. You do not need to submit them unless otherwise stated.\n",
        "- You can discuss with others and seek help from us, but you should first attempt the questions on your own.\n",
        "- Keep a record of your work, as it will be useful for Project 1.<br>\n",
        "  A convenient way to do this is to save a copy of the notebook to your google drive to add your notes. (`File->Save a copy in drive...`)\n",
        "- If you finish early, you may check with us and leave early.\n",
        "___"
      ]
    },
    {
      "cell_type": "markdown",
      "metadata": {
        "id": "wJSmqkK1OC6S",
        "colab_type": "text"
      },
      "source": [
        "## Course Overview"
      ]
    },
    {
      "cell_type": "markdown",
      "metadata": {
        "id": "z70HCCy6UW0A",
        "colab_type": "text"
      },
      "source": [
        "### Syllabus"
      ]
    },
    {
      "cell_type": "markdown",
      "metadata": {
        "id": "4WvO5_U7OmJh",
        "colab_type": "text"
      },
      "source": [
        "The course consists of weekly lectures and tutorials that equip you with the fundamental concepts in data science and hands-on experience working with some real-world datasets."
      ]
    },
    {
      "cell_type": "markdown",
      "metadata": {
        "id": "ZHAe0uBWYDS-",
        "colab_type": "text"
      },
      "source": [
        "The topics covered by this course include:\n",
        "- **Predictive modeling:** Classification, performance evaluation, decision tree, information theory, ensemble methods, ...\n",
        "- **Cluster analysis:** partitional, hierarchical, density-based methods, ...\n",
        "- **Association-rule mining:** market basket analysis, Apriori algorithm, ...\n",
        "- **Text mining:** Vectorization, term frequency-inverse document frequency (tf-idf), ...\n",
        "\n",
        "Some of the topics are also covered in greater depth by the course\n",
        "[CS4487 Machine Learning](http://www.cityu.edu.hk/catalogue/ug/current/course/CS4487.htm) offered in semester A. (See the [course catalogue](http://www.cityu.edu.hk/catalogue/ug/current/course/CS3481.htm) for more details.)\n",
        "\n",
        "In this course, we assume\n",
        "you have some background of *statistics*, *linear algebra*, and *algorithms*. For example, you should understand the concepts of expectation, co-variance matrix, mutual independence, and *the law of large number*. You should have some programming experience, and be able to understand and write pseudocode.\n",
        "\n",
        "While programming\n",
        "experience is helpful, it is not strictly required to understand the\n",
        "algorithms. \n",
        "\n",
        "Since the focus of the course is not programming, we will use mainly use a\n",
        "point-and-click data mining software, called [WEKA](https://www.cs.waikato.ac.nz/ml/weka/), to get hands-on experience quickly without much distraction. However, more flexible/sophisticated tools in Python will be introduced via [Google Colab](https://colab.research.google.com/), and you are encouraged to explore them more for your assignments in this course."
      ]
    },
    {
      "cell_type": "markdown",
      "metadata": {
        "id": "UOxyDY-j4hD9",
        "colab_type": "text"
      },
      "source": [
        "### Class Schedule"
      ]
    },
    {
      "cell_type": "markdown",
      "metadata": {
        "id": "y98zzBUgOVJm",
        "colab_type": "text"
      },
      "source": [
        "You are expected to come to class according to the class schedule and keep track of any updates throughout the course."
      ]
    },
    {
      "cell_type": "markdown",
      "metadata": {
        "id": "xRaApfzqCDfD",
        "colab_type": "text"
      },
      "source": [
        "The following table list the ***lecture days for all sections*** and the ***tutorial days for sections T1 to T3***.\n",
        "\n",
        "|Month| Lecture and tutorials on *Fridays*|\n",
        "|----|--------|\n",
        "|Jan| 17 ~24~ (Lunar New Year Break) ~31~ (class cancelled)|\n",
        "|Feb| 7  (group registration due) 14 (Project 1 release) 21 ~28~ (class cancelled to make up for group presentation)|\n",
        "|Mar| 6 13 (Project 1 due) 20 (1hr quiz during lecture, Project 2 release) 27|\n",
        "|Apr| 3 ~10~ (Easter Break) 17 24|\n",
        "|May| 1 3/4 (~3hr session for group presentation, report due on May 6)|"
      ]
    },
    {
      "cell_type": "markdown",
      "metadata": {
        "id": "sy-e-9HpPHU2",
        "colab_type": "text"
      },
      "source": [
        "The following are the ***tutorial days for Section T4***.\n",
        "\n",
        "|Month| Tutorial on Tuesday|\n",
        "|----|--------|\n",
        "|Jan| 14 21 ~28~ (Lunar New Year Break)|\n",
        "|Feb| ~4~ (class cancelled) 11 18 ~25~ (class cancelled to make up for group presentation)|\n",
        "|Mar| 3 10 17 24 31|\n",
        "|Apr| 7 ~14~ (Easter Break) 21 31 |"
      ]
    },
    {
      "cell_type": "markdown",
      "metadata": {
        "id": "BJl94FM-XPmr",
        "colab_type": "text"
      },
      "source": [
        "The venues are summarized below:\n",
        "- *All lectures*: ~Yeung LT-17 Friday 12pm to 2pm.~ Online\n",
        "- *All Tutorials*: ~MMW 2450 (CSLab)~ Online\n",
        "- *Group presentation on Apri 26 or 27*: ~LI-5606 (CSC teaching studio)~ Online\n",
        "\n",
        "*Note that the lecture and tutorials on Feb 25 and Feb 28 are cancelled to make up for the group project presentation on April 26 or 27 (time to be\n",
        "announced after you form and register your group). You will need to reserve either a morning\n",
        "or an afternoon in one of the two dates for your group presentation, and resolve any time conflicts in\n",
        "advance.*\n",
        "\n",
        "For your convenience, the important due dates are marked on the [Canvas course syllabus page](https://canvas.cityu.edu.hk/courses/32828/assignments/syllabus). "
      ]
    },
    {
      "cell_type": "markdown",
      "metadata": {
        "id": "4DA3W9IB2076",
        "colab_type": "text"
      },
      "source": [
        "For the tutorials in the CSLab, you will have\n",
        "access to a PC with the required software (WEKA) pre-installed. You may also use your laptop instead and download the software from the web. Please\n",
        "be especially considerate of your classmates: mute\n",
        "your phone, lower your voice during discussion, etc... If you need\n",
        "to watch online tutorials, please bring your\n",
        "headphone."
      ]
    },
    {
      "cell_type": "markdown",
      "metadata": {
        "id": "4yRz8XK3GvUi",
        "colab_type": "text"
      },
      "source": [
        "### Assessment"
      ]
    },
    {
      "cell_type": "markdown",
      "metadata": {
        "id": "aZV1J9j7SIJL",
        "colab_type": "text"
      },
      "source": [
        "An important part of learning is *testing*. There will be one midterm\n",
        "quiz that guides your learning process, and a final examination that test\n",
        "your overall understanding. You will conduct 2 projects in this course. The first project is an individual\n",
        "project. It will be an\n",
        "extension of the tutorial exercises that involve using WEKA to\n",
        "analyze data. The second project will be a group project. You will\n",
        "have the flexibility to choose your topic and demonstrate what you\n",
        "learned in a group presentation and report. In align with the discovery-enriched curriculum, You\n",
        "are encouraged to explore other tools and advanced techniques not introduced in the class. The detailed breakdown of the final score is as follows:"
      ]
    },
    {
      "cell_type": "markdown",
      "metadata": {
        "id": "6n1CKqHnGy81",
        "colab_type": "text"
      },
      "source": [
        "<dl>\n",
        "  <dt><strong>Quiz</strong> (20%) Midterm</dt>\n",
        "  <dd>\n",
        "  <ul>\n",
        "    <li> 1hr.\n",
        "    <li> closed book/notes.\n",
        "  </ul>\n",
        "  </dd>\n",
        "  <dt><strong>Exam</strong> (50%) Final</dt>\n",
        "  <dd>\n",
        "  <ul>\n",
        "    <li> 2hrs during the exam period (May 11 to 23).\n",
        "    <li> closed book/notes.\n",
        "    <li> need at least 30% of the total exam score to pass the course.\n",
        "  </ul>\n",
        "  </dd>\n",
        "  <dt><strong>Project 1</strong> (15%) Individual project</dt>\n",
        "  <dd>\n",
        "  <ul>\n",
        "    <li> A report not exceeding 15 pages to be submitted via Canvas by the Project 1 due date.\n",
        "    Typeset with LaTeX/Word/Jupyter notebook or other publishing softwares.\n",
        "  <li> An extension of the tutorial exercises.\n",
        "  <li> It is your responsibility to\n",
        "    take proper measures to avoid any suspicion of <a href=\"http://www6.cityu.edu.hk/ah/plagiarism.htm\">plagiarism</a>.\n",
        "    Plagiarism results in a minimum <a href=\"http://www.cityu.edu.hk/provost/academic_honesty/rules_on_academic_honesty.htm\">penalty</a> of failing the course.\n",
        "    </ul>\n",
        "  </dd>\n",
        "  <dt><strong>Project 2</strong> (15%) Group project</dt>\n",
        "  <dd>\n",
        "  <ul>\n",
        "    <li> Form a group of up to 4 people and register your group on Canvas by the group registration deadline.\n",
        "  <li> Attend the designated session (3hr) to give your group presentations (15min) and listen to the presentations of others in the same session. Your designed session will be arranged either on May 3 or 4. To make up for the time, the lecture on Feb 28 and the tutorials of that week will be cancelled.\n",
        "  <li>After the group presentation, a report not exceeding 15 pages per group to be submitted by the project 2 due date, along with the presentation slides and a link to the video recording of your presentation.\n",
        "  <li> You must also take appropriate measures to avoid suspicion of self-plagiarism. \n",
        "  </ul>\n",
        "  </dd>\n",
        "</dl>"
      ]
    },
    {
      "cell_type": "markdown",
      "metadata": {
        "id": "uO2fD3HwVfuV",
        "colab_type": "text"
      },
      "source": [
        "### Lecture and Tutorial Materials\n"
      ]
    },
    {
      "cell_type": "markdown",
      "metadata": {
        "id": "_E8XYLL2WCWd",
        "colab_type": "text"
      },
      "source": [
        "We will try to have all materials accessible from a central place, which is the Canvas course website:\n",
        "- https://canvas.cityu.edu.hk/courses/32828"
      ]
    },
    {
      "cell_type": "markdown",
      "metadata": {
        "id": "XUlbGcF9WHNk",
        "colab_type": "text"
      },
      "source": [
        "All the course materials should be accessible online, including the\n",
        "***main textbooks***:\n",
        "- **[Han11]** Han J. and Kamber M. Data Mining: Concepts and Techniques, 3rd\n",
        "  Ed., Morgan Kaufmann (2011).\n",
        "  - Ebook available on campus network or via VPN: http://www.sciencedirect.com/science/book/9780123814791\n",
        "- **[Witten11]** Witten I., Frank E. and Hall M.  Data Mining: Practical Machine\n",
        "  Learning Tools and Techniques, 3rd Ed., Morgan Kaufmann\n",
        "  (2011). (Not the later editions without the exercises on WEKA.)\n",
        "  - http://ebookcentral.proquest.com/lib/cityuhk/detail.action?docID=634862"
      ]
    },
    {
      "cell_type": "markdown",
      "metadata": {
        "id": "6b0kCaGLXGiU",
        "colab_type": "text"
      },
      "source": [
        "WEKA is an open source software written by the authors of [Witten11]. You can download WEKA and its related materials at\n",
        "- Software: https://www.cs.waikato.ac.nz/ml/weka/downloading.html\n",
        "- Reference: http://www.cs.waikato.ac.nz/ml/weka/Witten_et_al_2016_appendix.pdf\n",
        "- Videos: https://www.cs.waikato.ac.nz/ml/weka/mooc/dataminingwithweka"
      ]
    },
    {
      "cell_type": "markdown",
      "metadata": {
        "id": "zX9JBObMbHpj",
        "colab_type": "text"
      },
      "source": [
        "### Contact"
      ]
    },
    {
      "cell_type": "markdown",
      "metadata": {
        "id": "Ry0WQjf0OvCP",
        "colab_type": "text"
      },
      "source": [
        "**Lecturer**: Dr. CHAN, Chung\n",
        "- Office: Y6428\n",
        "- Email: chung.chan@cityu.edu.hk\n",
        "- Office hour: By appointment\n",
        "\n",
        "**TA**: Ms. JIAO Qianfen\n",
        "- Office: MMW 1407\n",
        "- Email: qjiao4-c@my.cityu.edu.hk\n",
        "\n",
        "**TA**: Mr. ZHAO Chao\n",
        "- Office: AC1 G2326\n",
        "- Email: ao.ao@my.cityu.edu.hk\n",
        "\n",
        "**TA**: Mr. WANG Xu\n",
        "- Office: MMW 3420\n",
        "- Email: xu.wang@my.cityu.edu.hk\n",
        "\n",
        "**TA**: Mr. LIANG Qihang\n",
        "- Office: MMW 3420\n",
        "- Email: liang.qihang@my.cityu.edu.hk"
      ]
    },
    {
      "cell_type": "markdown",
      "metadata": {
        "id": "gkEjx3Q-wYpM",
        "colab_type": "text"
      },
      "source": [
        "## Exercises\n",
        "___"
      ]
    },
    {
      "cell_type": "markdown",
      "metadata": {
        "id": "dwi7uOpZyw5E",
        "colab_type": "text"
      },
      "source": [
        "### Exercise 1 (submit via uReply)\n",
        "1. Run WEKA from the CSLab computer and do [Witten11, Exercises 17.1.1 and 17.1.2.](https://ebookcentral.proquest.com/lib/cityuhk/reader.action?docID=634862&ppg=595). (For computers in MMW2450, you can run weka by double clicking \"run.bat\" in \"G:\\weka\\3.8\", and find the datasets of weka in \"C:\\temp\\Weka-3.8\\data\" or \"G:\\weka\\3.8\\files\\data\". If you are using your own computers, the datasets can be found in \"data\" folder of Weka installation directory.)\n",
        "2. Save a copy of this notebook to your google drive (if you have not already done so) and add your answer to the box below:"
      ]
    },
    {
      "cell_type": "markdown",
      "metadata": {
        "id": "JqzBKa-_Gey3",
        "colab_type": "text"
      },
      "source": [
        "\n",
        "___\n",
        "**Answers to 17.1.1:** ...\n",
        "\n",
        "**Answers to 17.1.2:** ...\n",
        "___\n"
      ]
    },
    {
      "cell_type": "markdown",
      "metadata": {
        "id": "tV7RqCCTHzqm",
        "colab_type": "text"
      },
      "source": [
        "3. Submit your answers to 17.1.1 and 17.1.2. through uReply."
      ]
    },
    {
      "cell_type": "markdown",
      "metadata": {
        "id": "jzXUQx5gL1PD",
        "colab_type": "text"
      },
      "source": [
        "___\n",
        "For PC:\n",
        "1. Visit https://cityu.ed2.mobi/ or [course website uReply page](https://canvas.cityu.edu.hk/courses/32828/external_tools/807). (Notice the `uReply` menu item on the left.)\n",
        "2. Enter the session number: LM684"
      ]
    },
    {
      "cell_type": "markdown",
      "metadata": {
        "id": "9OGPZ64bMkGM",
        "colab_type": "text"
      },
      "source": [
        "For mobile devices:"
      ]
    },
    {
      "cell_type": "markdown",
      "metadata": {
        "id": "YY8Ovk85M_VV",
        "colab_type": "text"
      },
      "source": [
        "![image.png](data:image/png;base64,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)"
      ]
    },
    {
      "cell_type": "markdown",
      "metadata": {
        "id": "N5IhTeQgWhpY",
        "colab_type": "text"
      },
      "source": [
        "___"
      ]
    },
    {
      "cell_type": "markdown",
      "metadata": {
        "id": "0_r0uRgNNO84",
        "colab_type": "text"
      },
      "source": [
        "### Exercise 2 (no submission required)"
      ]
    },
    {
      "cell_type": "markdown",
      "metadata": {
        "id": "Acp3CMQv0A9M",
        "colab_type": "text"
      },
      "source": [
        "- Assuming you are viewing your copy of this notebook in Google Colab, mount your google drive by using a code snippet. (`Insert->Code snippets...`)"
      ]
    },
    {
      "cell_type": "markdown",
      "metadata": {
        "id": "7D34IW3a0KqU",
        "colab_type": "text"
      },
      "source": [
        "- Access Han's and Witten's textbooks through the course website and let us know if you have any difficulties."
      ]
    },
    {
      "cell_type": "markdown",
      "metadata": {
        "id": "FbcARSEX0YOZ",
        "colab_type": "text"
      },
      "source": [
        "- Access the [group registration assignment page](https://canvas.cityu.edu.hk/courses/32828/assignments/103471) and let us know if you have any difficulties."
      ]
    },
    {
      "cell_type": "markdown",
      "metadata": {
        "id": "EyBN2WSBwj0T",
        "colab_type": "text"
      },
      "source": [
        "- Create a [CityU Google GApps account](https://www.cityu.edu.hk/csc/deptweb/support/faq/email/GApps_faq.htm) if you do not already have one. The account comes with an unlimited google drive storage as well, which will be useful for storing/sharing project dataset and video presentation later on."
      ]
    },
    {
      "cell_type": "markdown",
      "metadata": {
        "id": "n7E-S1NUWxCt",
        "colab_type": "text"
      },
      "source": [
        "- Use your CityU Google GApps account to access the [other references page](http://bit.ly/CS3481ref). You may edit it to share any useful references you have found on data science."
      ]
    },
    {
      "cell_type": "markdown",
      "metadata": {
        "id": "E87V97svxdK-",
        "colab_type": "text"
      },
      "source": [
        "- Create a [professional GitHub account](https://education.github.com/pack) free for students. This will be useful for collaborative work such as the group project."
      ]
    }
  ]
}