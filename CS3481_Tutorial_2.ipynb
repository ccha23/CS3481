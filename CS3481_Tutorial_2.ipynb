{
  "nbformat": 4,
  "nbformat_minor": 0,
  "metadata": {
    "colab": {
      "name": "CS3481 Tutorial 2",
      "provenance": [],
      "toc_visible": true
    },
    "kernelspec": {
      "name": "python3",
      "display_name": "Python 3"
    }
  },
  "cells": [
    {
      "cell_type": "markdown",
      "metadata": {
        "id": "E3AzlVAZkPCo",
        "colab_type": "text"
      },
      "source": [
        "# Tutorial 2\n",
        "\n",
        "**CS3481 Fundamentals of Data Science**\n",
        "\n",
        "*Semester B 2019/20*\n",
        "___\n",
        "**Instructions:**\n",
        "- same as [Tutorial 1](http://bit.ly/CS3481T1).\n",
        "___"
      ]
    },
    {
      "cell_type": "markdown",
      "metadata": {
        "id": "-tEsb8F0sFdP",
        "colab_type": "text"
      },
      "source": [
        "## Exercise 1 (submit via uReply)"
      ]
    },
    {
      "cell_type": "markdown",
      "metadata": {
        "id": "uUvnfEVXtGp1",
        "colab_type": "text"
      },
      "source": [
        "Complete the tutorial exercises of [[Witten11]](https://ebookcentral.proquest.com/lib/cityuhk/reader.action?docID=634862&ppg=595) from **Exercise 17.1.3** to **17.1.7**, and read up to and including the subsection  [**The Visualize Panel**](https://ebookcentral.proquest.com/lib/cityuhk/reader.action?docID=634862&ppg=597). Submit your answers of 17.1.3-5 through [uReply](https://cityu.ed2.mobi/student/mobile_index.php) section number **LM715**.\n",
        "\n",
        "[*Hint: See the [documentation](https://ebookcentral.proquest.com/lib/cityuhk/reader.action?ppg=438&docID=634862&tm=1547446912037) of WEKA for more details.*]"
      ]
    },
    {
      "cell_type": "markdown",
      "metadata": {
        "id": "wn8cGMN4NMp1",
        "colab_type": "text"
      },
      "source": [
        "\n",
        "___\n",
        "**Answers to 17.1.3:** \n",
        "\n",
        "**Answers to 17.1.4:** \n",
        "\n",
        "**Answers to 17.1.5:**\n",
        "___\n"
      ]
    },
    {
      "cell_type": "markdown",
      "metadata": {
        "id": "84JBLj74N4cL",
        "colab_type": "text"
      },
      "source": [
        "## Exercise 2 (no submission required)"
      ]
    },
    {
      "cell_type": "markdown",
      "metadata": {
        "id": "dxC3HnWguSw3",
        "colab_type": "text"
      },
      "source": [
        "Use a text editor of your choice to create an ARFF file for the AND gate $Y=X_1\\cdot X_2$, and then load the file into WEKA to ensure it is correct.\n",
        "\n",
        "[*See the [documentation](https://waikato.github.io/weka-wiki/formats_and_processing/arff_stable/) for the ARFF file format, or take a look at some of the ARFF files in the WEKA data folder as examples.*]"
      ]
    },
    {
      "cell_type": "markdown",
      "metadata": {
        "id": "knqhtI8bzub2",
        "colab_type": "text"
      },
      "source": [
        "___\n",
        "**Answer**: Modify the following to create the desired ARFF."
      ]
    },
    {
      "cell_type": "code",
      "metadata": {
        "id": "oLVCIX_8qO4p",
        "colab_type": "code",
        "colab": {}
      },
      "source": [
        "text = '''@RELATION AND\n",
        "@ATTRIBUTE X1 {0, 1}\n",
        "@ATTRIBUTE X2 {0, _}\n",
        "@ATTRIBUTE Y {0, _}\n",
        "@DATA\n",
        "_, _, _\n",
        "_, _, _\n",
        "_, _, _\n",
        "_, _, _\n",
        "'''\n",
        "\n",
        "with open('AND.arff','w') as file:\n",
        "  file.write(text)"
      ],
      "execution_count": 0,
      "outputs": []
    },
    {
      "cell_type": "markdown",
      "metadata": {
        "id": "WBF8Dm9v0KJ9",
        "colab_type": "text"
      },
      "source": [
        "Load the ARFF file into a dataframe to check if the ARFF file is correct. "
      ]
    },
    {
      "cell_type": "code",
      "metadata": {
        "id": "Z83CbAVhtY4x",
        "colab_type": "code",
        "colab": {}
      },
      "source": [
        "from scipy.io import arff\n",
        "import pandas as pd\n",
        "\n",
        "data = arff.loadarff('AND.arff')\n",
        "df = pd.DataFrame(data[0])\n",
        "\n",
        "df.head()"
      ],
      "execution_count": 0,
      "outputs": []
    },
    {
      "cell_type": "markdown",
      "metadata": {
        "id": "7gKXZgZDwspj",
        "colab_type": "text"
      },
      "source": [
        "## Exercise 3 (no submission required)\n",
        "\n",
        "[[Han11]](https://www.sciencedirect.com/science/article/pii/B9780123814791000022#s0185) **Question 2.5**: Briefly outline how to compute the dissimilarity between objects described by the following:"
      ]
    },
    {
      "cell_type": "markdown",
      "metadata": {
        "id": "jqrWhVu3xMBc",
        "colab_type": "text"
      },
      "source": [
        "(a) Nominal attributes\n"
      ]
    },
    {
      "cell_type": "markdown",
      "metadata": {
        "id": "7R5eD_Tu5ob-",
        "colab_type": "text"
      },
      "source": [
        "___\n",
        "Answer:\n",
        "\n",
        "___"
      ]
    },
    {
      "cell_type": "markdown",
      "metadata": {
        "id": "_PhEZAP8y6d5",
        "colab_type": "text"
      },
      "source": [
        "(b) Asymmetric binary attributes"
      ]
    },
    {
      "cell_type": "markdown",
      "metadata": {
        "id": "2mUPx--p5zVJ",
        "colab_type": "text"
      },
      "source": [
        "___\n",
        "Answer:\n",
        "\n",
        "___"
      ]
    },
    {
      "cell_type": "markdown",
      "metadata": {
        "id": "XvOeKnYkzHc8",
        "colab_type": "text"
      },
      "source": [
        "(c) Numeric attributes"
      ]
    },
    {
      "cell_type": "markdown",
      "metadata": {
        "id": "1sHs5LjB50eH",
        "colab_type": "text"
      },
      "source": [
        "___\n",
        "Answer:\n",
        "\n",
        "___"
      ]
    },
    {
      "cell_type": "markdown",
      "metadata": {
        "id": "w5J9m01uzKtv",
        "colab_type": "text"
      },
      "source": [
        "(d) Term-frequency vectors"
      ]
    },
    {
      "cell_type": "markdown",
      "metadata": {
        "id": "q4aKfblU51wl",
        "colab_type": "text"
      },
      "source": [
        "___\n",
        "Answer:\n",
        "\n",
        "___"
      ]
    },
    {
      "cell_type": "markdown",
      "metadata": {
        "id": "iUx5dPQDlqIo",
        "colab_type": "text"
      },
      "source": [
        "## Exercise 4 (Optional)"
      ]
    },
    {
      "cell_type": "markdown",
      "metadata": {
        "id": "f7HtzrVV0LzF",
        "colab_type": "text"
      },
      "source": [
        "The following illustrates some methods of loading datasets into CoLab. You can execute the code by `shift+enter`."
      ]
    },
    {
      "cell_type": "markdown",
      "metadata": {
        "id": "xZGu4a4Q3409",
        "colab_type": "text"
      },
      "source": [
        "### (a) Load sample datasets from scikit-learn."
      ]
    },
    {
      "cell_type": "markdown",
      "metadata": {
        "id": "h172BCrhwuUC",
        "colab_type": "text"
      },
      "source": [
        "Import the `sklearn.datasets` package, which contains the desired iris dataset. Then, load the iris data sets and print its content."
      ]
    },
    {
      "cell_type": "code",
      "metadata": {
        "id": "9gQINfrjsb4M",
        "colab_type": "code",
        "colab": {}
      },
      "source": [
        "from sklearn import datasets # see https://scikit-learn.org/stable/datasets/index.html\n",
        "\n",
        "iris = datasets.load_iris()\n",
        "iris # to print out the content"
      ],
      "execution_count": 0,
      "outputs": []
    },
    {
      "cell_type": "markdown",
      "metadata": {
        "id": "ZQaW_PtZyEuF",
        "colab_type": "text"
      },
      "source": [
        "The field `DESCR` (description) contains some background information of the dataset. We can pretty-print only the description as follows."
      ]
    },
    {
      "cell_type": "code",
      "metadata": {
        "id": "22xkaKQPwAKv",
        "colab_type": "code",
        "colab": {}
      },
      "source": [
        "print(iris.DESCR)"
      ],
      "execution_count": 0,
      "outputs": []
    },
    {
      "cell_type": "markdown",
      "metadata": {
        "id": "GYcHsE7w0_y9",
        "colab_type": "text"
      },
      "source": [
        "Convert the dataset to a Pandas dataframe."
      ]
    },
    {
      "cell_type": "code",
      "metadata": {
        "id": "ZE5pla5bszpB",
        "colab_type": "code",
        "colab": {}
      },
      "source": [
        "import pandas as pd\n",
        "import numpy as np # \n",
        "\n",
        "iris_pd = pd.DataFrame(data = np.c_[iris['data'], iris['target']], columns = iris['feature_names']+['target'])\n",
        "iris_pd"
      ],
      "execution_count": 0,
      "outputs": []
    },
    {
      "cell_type": "markdown",
      "metadata": {
        "id": "nSnJZJlR21EK",
        "colab_type": "text"
      },
      "source": [
        "The function `np.c_` above concatenates the columns `iris['data']` of input features and the column `iris['target']` of class values together. For more details of the function, use the `help` function."
      ]
    },
    {
      "cell_type": "markdown",
      "metadata": {
        "id": "P0HpWjeo4OjD",
        "colab_type": "text"
      },
      "source": [
        "### (b) Download and load datasets from openML"
      ]
    },
    {
      "cell_type": "markdown",
      "metadata": {
        "id": "3ydr7Koy94JY",
        "colab_type": "text"
      },
      "source": [
        "Download the `weather.nominal` dataset from [openml.org](https://www.openml.org/d/41521). \n",
        "\n",
        "[*See the [documentation](https://scikit-learn.org/stable/datasets/index.html#downloading-datasets-from-the-openml-org-repository) for more details.*]"
      ]
    },
    {
      "cell_type": "code",
      "metadata": {
        "id": "xlMBWu7pcKGI",
        "colab_type": "code",
        "colab": {}
      },
      "source": [
        "from sklearn.datasets import fetch_openml\n",
        "weather = fetch_openml(name='Weather')\n",
        "weather"
      ],
      "execution_count": 0,
      "outputs": []
    },
    {
      "cell_type": "markdown",
      "metadata": {
        "id": "xQouBknNmTYS",
        "colab_type": "text"
      },
      "source": [
        "Pretty-print with text and wrap it to 100 characters per line."
      ]
    },
    {
      "cell_type": "code",
      "metadata": {
        "id": "0ZpWMNOI7ltJ",
        "colab_type": "code",
        "colab": {}
      },
      "source": [
        "import textwrap\n",
        "print(textwrap.fill(weather.DESCR,100))"
      ],
      "execution_count": 0,
      "outputs": []
    },
    {
      "cell_type": "markdown",
      "metadata": {
        "id": "oNQAWfwC6VRS",
        "colab_type": "text"
      },
      "source": [
        "Conversion to dataframe."
      ]
    },
    {
      "cell_type": "code",
      "metadata": {
        "id": "BTDyUIHF_RbZ",
        "colab_type": "code",
        "colab": {}
      },
      "source": [
        "import pandas as pd\n",
        "import numpy as np\n",
        "\n",
        "weather_pd = pd.DataFrame(data=np.c_[weather.data,weather.target],columns=weather.feature_names+['target'])\n",
        "weather_pd"
      ],
      "execution_count": 0,
      "outputs": []
    },
    {
      "cell_type": "markdown",
      "metadata": {
        "id": "LN8chSu17NNd",
        "colab_type": "text"
      },
      "source": [
        "Modify the dataframe so that the columns for `outlook` and `windy` use their respective category labels instead of indexes."
      ]
    },
    {
      "cell_type": "markdown",
      "metadata": {
        "id": "MBlAyc5d2D6v",
        "colab_type": "text"
      },
      "source": [
        "### (c) Download a CSV file from UCI Machine Learning repository and read it into a dataframe directly"
      ]
    },
    {
      "cell_type": "code",
      "metadata": {
        "id": "1JOoQVN9fTNz",
        "colab_type": "code",
        "colab": {}
      },
      "source": [
        "import urllib.request\n",
        "import io\n",
        "import pandas as pd\n",
        "\n",
        "url = 'https://archive.ics.uci.edu/ml/machine-learning-databases/iris/iris.data'\n",
        "ftpstream = urllib.request.urlopen(url)\n",
        "iris = pd.read_csv(io.StringIO(ftpstream.read().decode('utf-8')))\n",
        "iris"
      ],
      "execution_count": 0,
      "outputs": []
    },
    {
      "cell_type": "markdown",
      "metadata": {
        "id": "6F-T-DDU8WxP",
        "colab_type": "text"
      },
      "source": [
        "There is something wrong with the above dataframe. Use the additional options `names` and `index_col` of `read_csv` to read the CSV file correctly."
      ]
    }
  ]
}