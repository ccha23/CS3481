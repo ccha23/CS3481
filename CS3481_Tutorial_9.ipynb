{
  "nbformat": 4,
  "nbformat_minor": 0,
  "metadata": {
    "colab": {
      "name": "CS3481 Tutorial 9",
      "provenance": []
    },
    "kernelspec": {
      "name": "python3",
      "display_name": "Python 3"
    }
  },
  "cells": [
    {
      "cell_type": "markdown",
      "metadata": {
        "id": "E3AzlVAZkPCo",
        "colab_type": "text"
      },
      "source": [
        "# Tutorial 9\n",
        "\n",
        "**CS3481 Fundamentals of Data Science**\n",
        "\n",
        "*Semester B 2019/20*\n",
        "___\n",
        "**Instructions:**\n",
        "- same as [Tutorial 1](http://bit.ly/CS3481T1).\n",
        "___"
      ]
    },
    {
      "cell_type": "markdown",
      "metadata": {
        "id": "-tEsb8F0sFdP",
        "colab_type": "text"
      },
      "source": [
        "## Exercise 1 (submit via [uReply](https://cityu.ed2.mobi/student/mobile_index.php) section number **LM1100**)"
      ]
    },
    {
      "cell_type": "markdown",
      "metadata": {
        "id": "Cq9eL_urVOKc",
        "colab_type": "text"
      },
      "source": [
        "For this question, you will use WEKA to analyze a skewed dataset. \n",
        "1. Download the mamography dataset from [OpenML](https://www.openml.org/d/310).<br>\n",
        "Woods, Kevin S., et al. \"Comparative evaluation of pattern recognition techniques for detection of microcalcifications.\" Biomedical Image Processing and Biomedical Visualization. Vol. 1905. International Society for Optics and Photonics, 1993. [(Available via CityU VPN.)](https://www.worldscientific.com/doi/abs/10.1142/9789812797834_0011) The following is the description of the dataset excerpted from the paper:\n",
        "\n",
        "  > To obtain the training and test data, a segmentation routine is run on a set of digitized mammograms. The result of the segmentation routine is a template for each image which indicates the locations of possible microcalcifications called candidates. The segmentation routine is designed to locate small, bright spots (a characteristic of microcalcifications) in the raw image. It is important that most individual calcifications and all clusters of calcifications be segmented since the overall cluster detection accuracy can be limited by the results of the segmentation. Since the segmentation routine will detect objects other than microcalcifications, it is the job of the classifiers to label the candidates as either yes (a microcalcification) or no. A set of 7 features is systematically chosen and values are computed for each candidate. The feature values are organized into a feature vector, normalized, and written to a data file. Therefore, the training and test data is 7-dimensional feature vectors which are normalized between 0 and 1 using the (value-min)/(max-min) formula, where value is the feature vector element being normalized, and max and min are the maximum and minimum training set values for that feature.\n",
        "\n",
        "2. Use the package manager to download a meta classifier called `ThresholdSelector`, and a filter `SMOTE` [Synthetic Minority Over-sampling Technique](https://doi.org/10.1613/jair.953). \n",
        "\n",
        "Your goal is to detect microcalcifications in the mammographic images. Use $10$-fold stratified cross validation and a random seed of $1$ unless otherwise stated."
      ]
    },
    {
      "cell_type": "markdown",
      "metadata": {
        "id": "wFk7jQnlVjQW",
        "colab_type": "text"
      },
      "source": [
        "(a) Using ZeroR as the classifier, obtain the values of accuracy, precision, recall, and specificity. Verify the values by hand calculations. Is ZeroR a good baseline classifier?\n",
        "\n",
        "[*Hint: Is the accuracy misleading? Can a random decision maker do better than zeroR?*]"
      ]
    },
    {
      "cell_type": "markdown",
      "metadata": {
        "id": "a4uZljouV066",
        "colab_type": "text"
      },
      "source": [
        "___\n",
        "**Answer:**\n",
        "___"
      ]
    },
    {
      "cell_type": "markdown",
      "metadata": {
        "id": "m85_hnOGWA9w",
        "colab_type": "text"
      },
      "source": [
        "(b) Using J48 as the classifier instead, obtain the values of accuracy, precision, recall, and the F-score. Verify the value by hand calculations."
      ]
    },
    {
      "cell_type": "markdown",
      "metadata": {
        "id": "AVlfulG3WwK-",
        "colab_type": "text"
      },
      "source": [
        "___\n",
        "**Answer:**\n",
        "___"
      ]
    },
    {
      "cell_type": "markdown",
      "metadata": {
        "colab_type": "text",
        "id": "LMPOs44OL-Nd"
      },
      "source": [
        "## Exercise 2 (submit via Canvas discussion page)"
      ]
    },
    {
      "cell_type": "markdown",
      "metadata": {
        "id": "uoxJGvitt0yx",
        "colab_type": "text"
      },
      "source": [
        "For this question, your goal is to obtain the best performance and post your model and results on the [discussion page](https://canvas.cityu.edu.hk/courses/32828/discussion_topics/254800)."
      ]
    },
    {
      "cell_type": "markdown",
      "metadata": {
        "colab_type": "text",
        "id": "rxBxgP0wiCNK"
      },
      "source": [
        "(a) In the result list, right click on your result using J48 as the classifier and choose Cost/Benefit analysis and $1$ as the positive class value. Your goal is to find the maximum value of the precision. Give a cost matrix that achieves the maximum precision.\n",
        "    \n",
        "[*Hint: Pay attention to the row and column labels of the confusion matrix. It changes after you specify $1$ as the positive class value.*] "
      ]
    },
    {
      "cell_type": "markdown",
      "metadata": {
        "colab_type": "text",
        "id": "zkvpzLm6iCNM"
      },
      "source": [
        "___\n",
        "**Answer:**\n",
        "___"
      ]
    },
    {
      "cell_type": "markdown",
      "metadata": {
        "colab_type": "text",
        "id": "lQTLHLt3ikMp"
      },
      "source": [
        "(b) The meta classifier ThresholdSelector uses the threshold-moving technique to optimize a performance measure you specify, which can be the precision, recall, $F$ score, etc. Use J48 as the base classifier, obtain the highest precision, recall and $F$ score reported. Is any of these scores equal to $100\\%$?\n",
        "\n",
        "[*Hint: See an explanation of threshold moving technique [here](https://machinelearningmastery.com/threshold-moving-for-imbalanced-classification/).*]"
      ]
    },
    {
      "cell_type": "markdown",
      "metadata": {
        "colab_type": "text",
        "id": "GDmZk0_WikMr"
      },
      "source": [
        "___\n",
        "**Answer:**\n",
        "___"
      ]
    },
    {
      "cell_type": "markdown",
      "metadata": {
        "id": "T0mA5GjujJUB",
        "colab_type": "text"
      },
      "source": [
        "(c) Using the FilteredClassifier with J48 as the classifer and SMOTE as the filter, try to tweek the setting of SMOTE to give the highest possilbe value of $F$ score you can get.\n",
        "\n",
        "[*See an explanation of SMOTE [here](http://rikunert.com/SMOTE_explained).*]"
      ]
    },
    {
      "cell_type": "markdown",
      "metadata": {
        "colab_type": "text",
        "id": "yWHeD694h_lT"
      },
      "source": [
        "___\n",
        "**Answer:**\n",
        "___"
      ]
    },
    {
      "cell_type": "markdown",
      "metadata": {
        "id": "iUx5dPQDlqIo",
        "colab_type": "text"
      },
      "source": [
        "## Exercise 3 (Optional)"
      ]
    },
    {
      "cell_type": "markdown",
      "metadata": {
        "id": "Hjxybv2sxJYl",
        "colab_type": "text"
      },
      "source": [
        "Load the dataset from OpenML."
      ]
    },
    {
      "cell_type": "code",
      "metadata": {
        "id": "kKx6TfJHxN06",
        "colab_type": "code",
        "outputId": "69b3ded7-9f54-4563-999a-a11806441933",
        "colab": {
          "base_uri": "https://localhost:8080/",
          "height": 404
        }
      },
      "source": [
        "import pandas as pd\n",
        "import numpy as np\n",
        "from sklearn.datasets import fetch_openml\n",
        "mammo = fetch_openml(data_id=310)\n",
        "mammo_pd = pd.DataFrame(data=np.c_[mammo.data,mammo.target],columns=mammo.feature_names+['target'])\n",
        "mammo_pd"
      ],
      "execution_count": 0,
      "outputs": [
        {
          "output_type": "execute_result",
          "data": {
            "text/html": [
              "<div>\n",
              "<style scoped>\n",
              "    .dataframe tbody tr th:only-of-type {\n",
              "        vertical-align: middle;\n",
              "    }\n",
              "\n",
              "    .dataframe tbody tr th {\n",
              "        vertical-align: top;\n",
              "    }\n",
              "\n",
              "    .dataframe thead th {\n",
              "        text-align: right;\n",
              "    }\n",
              "</style>\n",
              "<table border=\"1\" class=\"dataframe\">\n",
              "  <thead>\n",
              "    <tr style=\"text-align: right;\">\n",
              "      <th></th>\n",
              "      <th>attr1</th>\n",
              "      <th>attr2</th>\n",
              "      <th>attr3</th>\n",
              "      <th>attr4</th>\n",
              "      <th>attr5</th>\n",
              "      <th>attr6</th>\n",
              "      <th>target</th>\n",
              "    </tr>\n",
              "  </thead>\n",
              "  <tbody>\n",
              "    <tr>\n",
              "      <th>0</th>\n",
              "      <td>0.23002</td>\n",
              "      <td>5.07258</td>\n",
              "      <td>-0.276061</td>\n",
              "      <td>0.832444</td>\n",
              "      <td>-0.377866</td>\n",
              "      <td>0.480322</td>\n",
              "      <td>-1</td>\n",
              "    </tr>\n",
              "    <tr>\n",
              "      <th>1</th>\n",
              "      <td>0.155491</td>\n",
              "      <td>-0.16939</td>\n",
              "      <td>0.670652</td>\n",
              "      <td>-0.859553</td>\n",
              "      <td>-0.377866</td>\n",
              "      <td>-0.945723</td>\n",
              "      <td>-1</td>\n",
              "    </tr>\n",
              "    <tr>\n",
              "      <th>2</th>\n",
              "      <td>-0.784415</td>\n",
              "      <td>-0.443654</td>\n",
              "      <td>5.67471</td>\n",
              "      <td>-0.859553</td>\n",
              "      <td>-0.377866</td>\n",
              "      <td>-0.945723</td>\n",
              "      <td>-1</td>\n",
              "    </tr>\n",
              "    <tr>\n",
              "      <th>3</th>\n",
              "      <td>0.546088</td>\n",
              "      <td>0.131415</td>\n",
              "      <td>-0.456387</td>\n",
              "      <td>-0.859553</td>\n",
              "      <td>-0.377866</td>\n",
              "      <td>-0.945723</td>\n",
              "      <td>-1</td>\n",
              "    </tr>\n",
              "    <tr>\n",
              "      <th>4</th>\n",
              "      <td>-0.102987</td>\n",
              "      <td>-0.394994</td>\n",
              "      <td>-0.140816</td>\n",
              "      <td>0.979703</td>\n",
              "      <td>-0.377866</td>\n",
              "      <td>1.01357</td>\n",
              "      <td>-1</td>\n",
              "    </tr>\n",
              "    <tr>\n",
              "      <th>...</th>\n",
              "      <td>...</td>\n",
              "      <td>...</td>\n",
              "      <td>...</td>\n",
              "      <td>...</td>\n",
              "      <td>...</td>\n",
              "      <td>...</td>\n",
              "      <td>...</td>\n",
              "    </tr>\n",
              "    <tr>\n",
              "      <th>11178</th>\n",
              "      <td>-0.250012</td>\n",
              "      <td>-0.3773</td>\n",
              "      <td>-0.321142</td>\n",
              "      <td>1.26916</td>\n",
              "      <td>3.65298</td>\n",
              "      <td>1.09279</td>\n",
              "      <td>1</td>\n",
              "    </tr>\n",
              "    <tr>\n",
              "      <th>11179</th>\n",
              "      <td>0.281343</td>\n",
              "      <td>-0.417112</td>\n",
              "      <td>-0.366224</td>\n",
              "      <td>0.85101</td>\n",
              "      <td>2.78965</td>\n",
              "      <td>1.3457</td>\n",
              "      <td>1</td>\n",
              "    </tr>\n",
              "    <tr>\n",
              "      <th>11180</th>\n",
              "      <td>1.20499</td>\n",
              "      <td>1.76372</td>\n",
              "      <td>-0.501468</td>\n",
              "      <td>1.56241</td>\n",
              "      <td>6.48907</td>\n",
              "      <td>0.931294</td>\n",
              "      <td>1</td>\n",
              "    </tr>\n",
              "    <tr>\n",
              "      <th>11181</th>\n",
              "      <td>0.736644</td>\n",
              "      <td>-0.222474</td>\n",
              "      <td>-0.0506528</td>\n",
              "      <td>1.50966</td>\n",
              "      <td>0.539269</td>\n",
              "      <td>1.31523</td>\n",
              "      <td>1</td>\n",
              "    </tr>\n",
              "    <tr>\n",
              "      <th>11182</th>\n",
              "      <td>0.177003</td>\n",
              "      <td>-0.191508</td>\n",
              "      <td>-0.501468</td>\n",
              "      <td>1.57886</td>\n",
              "      <td>7.7507</td>\n",
              "      <td>1.55595</td>\n",
              "      <td>1</td>\n",
              "    </tr>\n",
              "  </tbody>\n",
              "</table>\n",
              "<p>11183 rows × 7 columns</p>\n",
              "</div>"
            ],
            "text/plain": [
              "          attr1     attr2      attr3     attr4     attr5     attr6 target\n",
              "0       0.23002   5.07258  -0.276061  0.832444 -0.377866  0.480322     -1\n",
              "1      0.155491  -0.16939   0.670652 -0.859553 -0.377866 -0.945723     -1\n",
              "2     -0.784415 -0.443654    5.67471 -0.859553 -0.377866 -0.945723     -1\n",
              "3      0.546088  0.131415  -0.456387 -0.859553 -0.377866 -0.945723     -1\n",
              "4     -0.102987 -0.394994  -0.140816  0.979703 -0.377866   1.01357     -1\n",
              "...         ...       ...        ...       ...       ...       ...    ...\n",
              "11178 -0.250012   -0.3773  -0.321142   1.26916   3.65298   1.09279      1\n",
              "11179  0.281343 -0.417112  -0.366224   0.85101   2.78965    1.3457      1\n",
              "11180   1.20499   1.76372  -0.501468   1.56241   6.48907  0.931294      1\n",
              "11181  0.736644 -0.222474 -0.0506528   1.50966  0.539269   1.31523      1\n",
              "11182  0.177003 -0.191508  -0.501468   1.57886    7.7507   1.55595      1\n",
              "\n",
              "[11183 rows x 7 columns]"
            ]
          },
          "metadata": {
            "tags": []
          },
          "execution_count": 7
        }
      ]
    },
    {
      "cell_type": "markdown",
      "metadata": {
        "id": "E71dD3IP31bc",
        "colab_type": "text"
      },
      "source": [
        "Import the libraries for decision tree, ROC analysis, and cross validation."
      ]
    },
    {
      "cell_type": "code",
      "metadata": {
        "id": "q10_FZPG38-N",
        "colab_type": "code",
        "colab": {}
      },
      "source": [
        "from sklearn import tree\n",
        "from sklearn.metrics import auc, roc_curve\n",
        "from sklearn.model_selection import train_test_split\n",
        "from sklearn.metrics import roc_auc_score\n",
        "from matplotlib import pyplot"
      ],
      "execution_count": 0,
      "outputs": []
    },
    {
      "cell_type": "markdown",
      "metadata": {
        "id": "u9z0Y0PmGQv_",
        "colab_type": "text"
      },
      "source": [
        "Split the data into training and test data."
      ]
    },
    {
      "cell_type": "code",
      "metadata": {
        "id": "xZHuXaErFaW_",
        "colab_type": "code",
        "colab": {}
      },
      "source": [
        "X = mammo_pd.iloc[:,:-1]\n",
        "Y = mammo_pd.iloc[:,-1]\n",
        "trainX, testX, trainY, testY = train_test_split(X,Y,test_size=0.5)"
      ],
      "execution_count": 0,
      "outputs": []
    },
    {
      "cell_type": "markdown",
      "metadata": {
        "id": "536OokpVGVvT",
        "colab_type": "text"
      },
      "source": [
        "Train the classifier."
      ]
    },
    {
      "cell_type": "code",
      "metadata": {
        "id": "aChfWffoFYdG",
        "colab_type": "code",
        "outputId": "cd44e160-22c4-4e58-bc28-c06754655618",
        "colab": {
          "base_uri": "https://localhost:8080/",
          "height": 117
        }
      },
      "source": [
        "clf_gini = tree.DecisionTreeClassifier() \n",
        "clf_gini.fit(trainX,trainY)"
      ],
      "execution_count": 0,
      "outputs": [
        {
          "output_type": "execute_result",
          "data": {
            "text/plain": [
              "DecisionTreeClassifier(ccp_alpha=0.0, class_weight=None, criterion='gini',\n",
              "                       max_depth=None, max_features=None, max_leaf_nodes=None,\n",
              "                       min_impurity_decrease=0.0, min_impurity_split=None,\n",
              "                       min_samples_leaf=1, min_samples_split=2,\n",
              "                       min_weight_fraction_leaf=0.0, presort='deprecated',\n",
              "                       random_state=None, splitter='best')"
            ]
          },
          "metadata": {
            "tags": []
          },
          "execution_count": 25
        }
      ]
    },
    {
      "cell_type": "markdown",
      "metadata": {
        "id": "ZnOzrkqiIRiB",
        "colab_type": "text"
      },
      "source": [
        "To compute the ROC curve (TPR and FPR), the classifer should return soft decisions on the test data in the form of probabilities for each class."
      ]
    },
    {
      "cell_type": "code",
      "metadata": {
        "id": "O_jMNB0YGhBn",
        "colab_type": "code",
        "outputId": "ec2b5442-408a-4ce5-89d3-8021a84d083e",
        "colab": {
          "base_uri": "https://localhost:8080/",
          "height": 281
        }
      },
      "source": [
        "prob = clf_gini.predict_proba(testX)\n",
        "prob_pos = prob[:,clf_gini.classes_=='1']\n",
        "fpr, tpr, _ = roc_curve(testY,prob_pos,'1')\n",
        "pyplot.plot(fpr, tpr, marker='.', label='Decision tree')"
      ],
      "execution_count": 0,
      "outputs": [
        {
          "output_type": "execute_result",
          "data": {
            "text/plain": [
              "[<matplotlib.lines.Line2D at 0x7f1ac02d25c0>]"
            ]
          },
          "metadata": {
            "tags": []
          },
          "execution_count": 44
        },
        {
          "output_type": "display_data",
          "data": {
            "image/png": "[encoded data removed]",
            "text/plain": [
              "<Figure size 432x288 with 1 Axes>"
            ]
          },
          "metadata": {
            "tags": []
          }
        }
      ]
    },
    {
      "cell_type": "markdown",
      "metadata": {
        "id": "h-mcbPh0J0Jc",
        "colab_type": "text"
      },
      "source": [
        "Compute the AUC."
      ]
    },
    {
      "cell_type": "code",
      "metadata": {
        "id": "adxKp2BcJzuq",
        "colab_type": "code",
        "outputId": "ff99c492-24f7-4adf-83ab-73ae29666760",
        "colab": {
          "base_uri": "https://localhost:8080/",
          "height": 33
        }
      },
      "source": [
        "roc_auc = roc_auc_score(testY,prob_pos)\n",
        "print(\"ROC AUC: {:.2f}\".format(roc_auc))"
      ],
      "execution_count": 0,
      "outputs": [
        {
          "output_type": "stream",
          "text": [
            "ROC AUC: 0.74\n"
          ],
          "name": "stdout"
        }
      ]
    },
    {
      "cell_type": "markdown",
      "metadata": {
        "id": "YtKiUuH3J79H",
        "colab_type": "text"
      },
      "source": [
        "**Exercise:** Why does the ROC curve contain only a few points? \n",
        "\n",
        "[*Hint: Check the number of distinct probabilities in `prob_pos`.*]"
      ]
    },
    {
      "cell_type": "markdown",
      "metadata": {
        "id": "PWaQO3t1KGJo",
        "colab_type": "text"
      },
      "source": [
        "**Exercise:** Repeat the analysis for PR curve instead using [`pr_curve` and `pr_auc_score`](https://machinelearningmastery.com/roc-curves-and-precision-recall-curves-for-classification-in-python/)."
      ]
    },
    {
      "cell_type": "markdown",
      "metadata": {
        "id": "VAbYkZyKjbm5",
        "colab_type": "text"
      },
      "source": [
        "**Exercise:** Repeat the analysis with Cross-validation using [`plot_roc_curve`](https://scikit-learn.org/stable/auto_examples/model_selection/plot_roc_crossval.html) instead."
      ]
    }
  ]
}