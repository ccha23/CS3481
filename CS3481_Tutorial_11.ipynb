{
  "nbformat": 4,
  "nbformat_minor": 0,
  "metadata": {
    "colab": {
      "name": "CS3481 Tutorial 11",
      "provenance": []
    },
    "kernelspec": {
      "name": "python3",
      "display_name": "Python 3"
    }
  },
  "cells": [
    {
      "cell_type": "markdown",
      "metadata": {
        "id": "E3AzlVAZkPCo",
        "colab_type": "text"
      },
      "source": [
        "# Tutorial 11\n",
        "\n",
        "**CS3481 Fundamentals of Data Science**\n",
        "\n",
        "*Semester B 2019/20*\n",
        "___\n",
        "**Instructions:**\n",
        "- same as [Tutorial 1](http://bit.ly/CS3481T1).\n",
        "___"
      ]
    },
    {
      "cell_type": "markdown",
      "metadata": {
        "id": "-tEsb8F0sFdP",
        "colab_type": "text"
      },
      "source": [
        "## Exercise 1 (submit via [uReply](https://cityu.ed2.mobi/student/mobile_index.php) section number **LM1202**)"
      ]
    },
    {
      "cell_type": "markdown",
      "metadata": {
        "id": "Cq9eL_urVOKc",
        "colab_type": "text"
      },
      "source": [
        "  For this question, you will continue to use WEKA to cluster the iris2D dataset."
      ]
    },
    {
      "cell_type": "markdown",
      "metadata": {
        "colab_type": "text",
        "id": "RrVm68gDadMf"
      },
      "source": [
        "(a) Apply the elbow method to find the optimal number $k$ of clusters."
      ]
    },
    {
      "cell_type": "markdown",
      "metadata": {
        "id": "Mz0mcl5aa5bY",
        "colab_type": "text"
      },
      "source": [
        "___\n",
        "**Answer:**\n"
      ]
    },
    {
      "cell_type": "code",
      "metadata": {
        "id": "sBErw2gKa7Dc",
        "colab_type": "code",
        "colab": {}
      },
      "source": [
        "# modify the code below to record WSS as a function of k\n",
        "k_list = [1, 2, 3, 4]\n",
        "WSS_list = [ 0, 0, 0, 0]"
      ],
      "execution_count": 0,
      "outputs": []
    },
    {
      "cell_type": "code",
      "metadata": {
        "id": "IzSxnDZHbgBz",
        "colab_type": "code",
        "colab": {
          "base_uri": "https://localhost:8080/",
          "height": 279
        },
        "outputId": "806ad05e-59ea-40a8-bf4e-888844f5d0b1"
      },
      "source": [
        "# plot WSS as a function of k\n",
        "import matplotlib.pyplot as plt\n",
        "plt.plot(k_list,WSS_list,'bo-')\n",
        "plt.xlabel('k')\n",
        "plt.ylabel('WSS')\n",
        "plt.show()"
      ],
      "execution_count": 16,
      "outputs": [
        {
          "output_type": "display_data",
          "data": {
            "image/png": "[encoded data removed]",
            "text/plain": [
              "<Figure size 432x288 with 1 Axes>"
            ]
          },
          "metadata": {
            "tags": [],
            "needs_background": "light"
          }
        }
      ]
    },
    {
      "cell_type": "markdown",
      "metadata": {
        "colab_type": "text",
        "id": "xsGl6TVmad54"
      },
      "source": [
        "The optimal $k$ is _____.\n",
        "___"
      ]
    },
    {
      "cell_type": "markdown",
      "metadata": {
        "id": "wFk7jQnlVjQW",
        "colab_type": "text"
      },
      "source": [
        "(b) Follow the procedures below to cluster the `iris.2D` dataset.\n",
        "1. In the `cluster panel`, Select HierarchicalClusterer as the `clusterer`.\n",
        "1. Choose the number of clusters to be $3$.\n",
        "1. Select `classes to clusters evaluations` as the test option.\n",
        "1. Run the clustering algorithm. \n",
        "\n",
        "What is the percentage of incorrectly clustered instances? Visualize the cluster assignments and  explain why the performance is better/worse than that of the $k$-means algorithm."
      ]
    },
    {
      "cell_type": "markdown",
      "metadata": {
        "id": "a4uZljouV066",
        "colab_type": "text"
      },
      "source": [
        "___\n",
        "**Answer:**\n",
        "___"
      ]
    },
    {
      "cell_type": "markdown",
      "metadata": {
        "id": "8dok_xvtxW2m",
        "colab_type": "text"
      },
      "source": [
        "(c)  Repeat the hierarchical clustering procedure but with the complete linkage algorithm by setting the `linkType` to `COMPLETE`. Is the result better now? Why?\n",
        "\n"
      ]
    },
    {
      "cell_type": "markdown",
      "metadata": {
        "colab_type": "text",
        "id": "PpQt_zbcJJyT"
      },
      "source": [
        "___\n",
        "**Answer:**\n",
        "___"
      ]
    },
    {
      "cell_type": "markdown",
      "metadata": {
        "colab_type": "text",
        "id": "LMPOs44OL-Nd"
      },
      "source": [
        "## Exercise 2 (no submission required)"
      ]
    },
    {
      "cell_type": "markdown",
      "metadata": {
        "id": "UOLid5ZIK2-V",
        "colab_type": "text"
      },
      "source": [
        "For this question, you will cluster the following dataset by hand calculation.\n",
        "\n",
        "|  |$Z_1$|$Z_2$|\n",
        "|--|-----|-----|\n",
        "|1.|-1   |1    |\n",
        "|2.|-1   |0    |\n",
        "|3.|0    |0    |\n",
        "|4.|1    |0    |\n",
        "|5.|2    |0    |\n",
        "|6.|2    |1    |"
      ]
    },
    {
      "cell_type": "markdown",
      "metadata": {
        "id": "nWRj9xqQWcbs",
        "colab_type": "text"
      },
      "source": [
        "### (a) \n",
        "Apply the folllowing agglomerative clustering algorithms to generate all possible dendrograms. Explain whether the algorithm is able to find non-trivial clusters."
      ]
    },
    {
      "cell_type": "markdown",
      "metadata": {
        "id": "4VBB1cl4UJfy",
        "colab_type": "text"
      },
      "source": [
        "(i) Single linkage method."
      ]
    },
    {
      "cell_type": "markdown",
      "metadata": {
        "colab_type": "text",
        "id": "DZY1w1SNVkQx"
      },
      "source": [
        "___\n",
        "**Answer:**\n"
      ]
    },
    {
      "cell_type": "markdown",
      "metadata": {
        "id": "wDgaIJ3Z6WGR",
        "colab_type": "text"
      },
      "source": [
        "You may use the following code to plot a dendrogram. (See [doc](https://docs.scipy.org/doc/scipy/reference/generated/scipy.cluster.hierarchy.dendrogram.html#scipy.cluster.hierarchy.dendrogram).)"
      ]
    },
    {
      "cell_type": "code",
      "metadata": {
        "id": "2Sy00jPtvr1R",
        "colab_type": "code",
        "colab": {}
      },
      "source": [
        "import numpy as np\n",
        "labels = [1,2,3,4,5,6]\n",
        "n = len(labels)\n",
        "# modify the linkage matrix\n",
        "Z_single = np.array([[0,1,1,0],[2,3,1,0],[4,5,1,0],[6,7,2,0],[8,9,3,0]]).astype('float')"
      ],
      "execution_count": 0,
      "outputs": []
    },
    {
      "cell_type": "code",
      "metadata": {
        "id": "5SbvGmEbvcl7",
        "colab_type": "code",
        "colab": {
          "base_uri": "https://localhost:8080/",
          "height": 493
        },
        "outputId": "0022e7e3-a601-46d9-c439-34c00ee28ff9"
      },
      "source": [
        "from scipy.cluster.hierarchy import dendrogram\n",
        "dendrogram(Z_single,labels=labels)"
      ],
      "execution_count": 53,
      "outputs": [
        {
          "output_type": "execute_result",
          "data": {
            "text/plain": [
              "{'color_list': ['g', 'r', 'r', 'r', 'b'],\n",
              " 'dcoord': [[0.0, 1.0, 1.0, 0.0],\n",
              "  [0.0, 1.0, 1.0, 0.0],\n",
              "  [0.0, 1.0, 1.0, 0.0],\n",
              "  [1.0, 2.0, 2.0, 1.0],\n",
              "  [1.0, 3.0, 3.0, 2.0]],\n",
              " 'icoord': [[5.0, 5.0, 15.0, 15.0],\n",
              "  [25.0, 25.0, 35.0, 35.0],\n",
              "  [45.0, 45.0, 55.0, 55.0],\n",
              "  [30.0, 30.0, 50.0, 50.0],\n",
              "  [10.0, 10.0, 40.0, 40.0]],\n",
              " 'ivl': [5, 6, 1, 2, 3, 4],\n",
              " 'leaves': [4, 5, 0, 1, 2, 3]}"
            ]
          },
          "metadata": {
            "tags": []
          },
          "execution_count": 53
        },
        {
          "output_type": "display_data",
          "data": {
            "image/png": "[encoded data removed]",
            "text/plain": [
              "<Figure size 432x288 with 1 Axes>"
            ]
          },
          "metadata": {
            "tags": [],
            "needs_background": "light"
          }
        }
      ]
    },
    {
      "cell_type": "markdown",
      "metadata": {
        "id": "GnuX1fgpvb2o",
        "colab_type": "text"
      },
      "source": [
        "___"
      ]
    },
    {
      "cell_type": "markdown",
      "metadata": {
        "id": "mxc8SBLwVrzc",
        "colab_type": "text"
      },
      "source": [
        "(ii) Complete linkage method."
      ]
    },
    {
      "cell_type": "markdown",
      "metadata": {
        "colab_type": "text",
        "id": "Wp_BwGno6pal"
      },
      "source": [
        "___\n",
        "**Answer:**\n"
      ]
    },
    {
      "cell_type": "code",
      "metadata": {
        "colab_type": "code",
        "id": "5wnRn7Ge6pan",
        "colab": {
          "base_uri": "https://localhost:8080/",
          "height": 493
        },
        "outputId": "02be69e5-75d3-4b6e-9e15-f1bb82e204f3"
      },
      "source": [
        "# modify the linkage matrix\n",
        "Z_complete = np.array([[0,1,1,0],[2,3,1,0],[4,5,1,0],[6,7,2,0],[8,9,3,0]]).astype('float')\n",
        "dendrogram(Z_complete,labels=labels)"
      ],
      "execution_count": 55,
      "outputs": [
        {
          "output_type": "execute_result",
          "data": {
            "text/plain": [
              "{'color_list': ['g', 'r', 'r', 'r', 'b'],\n",
              " 'dcoord': [[0.0, 1.0, 1.0, 0.0],\n",
              "  [0.0, 1.0, 1.0, 0.0],\n",
              "  [0.0, 1.0, 1.0, 0.0],\n",
              "  [1.0, 2.0, 2.0, 1.0],\n",
              "  [1.0, 3.0, 3.0, 2.0]],\n",
              " 'icoord': [[5.0, 5.0, 15.0, 15.0],\n",
              "  [25.0, 25.0, 35.0, 35.0],\n",
              "  [45.0, 45.0, 55.0, 55.0],\n",
              "  [30.0, 30.0, 50.0, 50.0],\n",
              "  [10.0, 10.0, 40.0, 40.0]],\n",
              " 'ivl': [5, 6, 1, 2, 3, 4],\n",
              " 'leaves': [4, 5, 0, 1, 2, 3]}"
            ]
          },
          "metadata": {
            "tags": []
          },
          "execution_count": 55
        },
        {
          "output_type": "display_data",
          "data": {
            "image/png": "[encoded data removed]",
            "text/plain": [
              "<Figure size 432x288 with 1 Axes>"
            ]
          },
          "metadata": {
            "tags": [],
            "needs_background": "light"
          }
        }
      ]
    },
    {
      "cell_type": "markdown",
      "metadata": {
        "colab_type": "text",
        "id": "O4cRpTAM6pas"
      },
      "source": [
        "___"
      ]
    },
    {
      "cell_type": "markdown",
      "metadata": {
        "id": "4lKkmRmXXZK7",
        "colab_type": "text"
      },
      "source": [
        "## (b)\n",
        "Follow the steps below to use the elbow method in conjunction with the centroid-based method to compute the clustering solution."
      ]
    },
    {
      "cell_type": "markdown",
      "metadata": {
        "id": "rbFOHBoEYX6i",
        "colab_type": "text"
      },
      "source": [
        "(i) Give the optimal solutions for $k=2$ and $3$ respectively. In particular, give the WSS in each case."
      ]
    },
    {
      "cell_type": "markdown",
      "metadata": {
        "colab_type": "text",
        "id": "UgU1D8F1XdcA"
      },
      "source": [
        "___\n",
        "**Answer:**\n",
        "___"
      ]
    },
    {
      "cell_type": "markdown",
      "metadata": {
        "id": "biNOhkXgNbQv",
        "colab_type": "text"
      },
      "source": [
        "(ii) Plot the graph of WSS and find the best number $k$ of clusters using the elbow method.\n"
      ]
    },
    {
      "cell_type": "markdown",
      "metadata": {
        "colab_type": "text",
        "id": "RluyYXcCNszR"
      },
      "source": [
        "___\n",
        "**Answer:**\n",
        "___"
      ]
    },
    {
      "cell_type": "markdown",
      "metadata": {
        "id": "KRDuZujANtyK",
        "colab_type": "text"
      },
      "source": [
        "(iii) Explain whether min-max normalization affect the optimal choice of $k$."
      ]
    },
    {
      "cell_type": "markdown",
      "metadata": {
        "colab_type": "text",
        "id": "D8AmEs3ROkmi"
      },
      "source": [
        "___\n",
        "**Answer:**\n",
        "___"
      ]
    },
    {
      "cell_type": "markdown",
      "metadata": {
        "id": "iUx5dPQDlqIo",
        "colab_type": "text"
      },
      "source": [
        "## Exercise 3 (Optional)"
      ]
    },
    {
      "cell_type": "markdown",
      "metadata": {
        "id": "rMzQWBfQQV3f",
        "colab_type": "text"
      },
      "source": [
        "Similar to the previous tutorial, we will generate the `iris.2D` dataset and normalize the attributes."
      ]
    },
    {
      "cell_type": "code",
      "metadata": {
        "id": "vP5IRxSgYiqv",
        "colab_type": "code",
        "outputId": "0aff81d1-1e32-41e9-82d5-b98546908aa5",
        "colab": {
          "base_uri": "https://localhost:8080/",
          "height": 34
        }
      },
      "source": [
        "from sklearn import datasets\n",
        "\n",
        "iris = datasets.load_iris()\n",
        "X = iris['data'][:,[0,2]]\n",
        "Y = iris['target']\n",
        "\n",
        "X.shape, Y.shape # show the dimensions of the input features and target"
      ],
      "execution_count": 17,
      "outputs": [
        {
          "output_type": "execute_result",
          "data": {
            "text/plain": [
              "((150, 2), (150,))"
            ]
          },
          "metadata": {
            "tags": []
          },
          "execution_count": 17
        }
      ]
    },
    {
      "cell_type": "markdown",
      "metadata": {
        "id": "48jCv9jzXODP",
        "colab_type": "text"
      },
      "source": [
        "Apply min-max normalization to the input attributes."
      ]
    },
    {
      "cell_type": "code",
      "metadata": {
        "id": "L9ldoKQIWiiM",
        "colab_type": "code",
        "outputId": "f2e04887-6653-4dc0-9a1c-614f4f0ba634",
        "colab": {
          "base_uri": "https://localhost:8080/",
          "height": 34
        }
      },
      "source": [
        "from sklearn.preprocessing import MinMaxScaler\n",
        "import numpy as np\n",
        "minmax_norm = MinMaxScaler()\n",
        "X_ = minmax_norm.fit_transform(X)\n",
        "np.min(X_,axis=0), np.max(X_,axis=0)"
      ],
      "execution_count": 18,
      "outputs": [
        {
          "output_type": "execute_result",
          "data": {
            "text/plain": [
              "(array([0., 0.]), array([1., 1.]))"
            ]
          },
          "metadata": {
            "tags": []
          },
          "execution_count": 18
        }
      ]
    },
    {
      "cell_type": "markdown",
      "metadata": {
        "id": "oIiMWPkvWdVD",
        "colab_type": "text"
      },
      "source": [
        "We will use the elbow method to determine the best choice of $k$."
      ]
    },
    {
      "cell_type": "code",
      "metadata": {
        "id": "2wFxCg-MUw5M",
        "colab_type": "code",
        "colab": {}
      },
      "source": [
        "from sklearn.cluster import KMeans\n",
        "maxk = 5\n",
        "k_list = range(1,maxk+1)\n",
        "kmeans_list = [[]] * maxk\n",
        "WSS_list = [0] * maxk\n",
        "for k in k_list:\n",
        "  kmeans_list[k-1] = KMeans(n_clusters=k).fit(X_)\n",
        "  WSS_list[k-1] = kmeans_list[k-1].inertia_ # WSS is also called inertia"
      ],
      "execution_count": 0,
      "outputs": []
    },
    {
      "cell_type": "markdown",
      "metadata": {
        "id": "zx8fMN0knF2E",
        "colab_type": "text"
      },
      "source": [
        "Plot the WSS as a function $k$."
      ]
    },
    {
      "cell_type": "code",
      "metadata": {
        "id": "kuE8RRN5T86B",
        "colab_type": "code",
        "outputId": "a42cea2d-5419-4271-8807-ae3605e06222",
        "colab": {
          "base_uri": "https://localhost:8080/",
          "height": 279
        }
      },
      "source": [
        "import matplotlib.pyplot as plt\n",
        "\n",
        "plt.plot(k_list,WSS_list,'bo-')\n",
        "plt.ylabel('WSS')\n",
        "plt.xlabel('k')\n",
        "plt.show()"
      ],
      "execution_count": 21,
      "outputs": [
        {
          "output_type": "display_data",
          "data": {
            "image/png": "[encoded data removed]",
            "text/plain": [
              "<Figure size 432x288 with 1 Axes>"
            ]
          },
          "metadata": {
            "tags": [],
            "needs_background": "light"
          }
        }
      ]
    },
    {
      "cell_type": "markdown",
      "metadata": {
        "id": "2c166b94W1ix",
        "colab_type": "text"
      },
      "source": [
        "Plot the clustering solutions for $k=2$ and $3$ respectively."
      ]
    },
    {
      "cell_type": "code",
      "metadata": {
        "id": "wafZa3s4UJuN",
        "colab_type": "code",
        "outputId": "bb00626c-7659-49cf-c634-7e9d63a94440",
        "colab": {
          "base_uri": "https://localhost:8080/",
          "height": 298
        }
      },
      "source": [
        "plt.figure()\n",
        "plt.subplot(121)\n",
        "plt.scatter(X[:,0],X[:,1],c=kmeans_list[1].labels_)\n",
        "plt.title(\"k=2\")\n",
        "plt.subplot(122)\n",
        "plt.scatter(X[:,0],X[:,1],c=kmeans_list[2].labels_)\n",
        "plt.title(\"k=3\")"
      ],
      "execution_count": 22,
      "outputs": [
        {
          "output_type": "execute_result",
          "data": {
            "text/plain": [
              "Text(0.5, 1.0, 'k=3')"
            ]
          },
          "metadata": {
            "tags": []
          },
          "execution_count": 22
        },
        {
          "output_type": "display_data",
          "data": {
            "image/png": "[encoded data removed]",
            "text/plain": [
              "<Figure size 432x288 with 2 Axes>"
            ]
          },
          "metadata": {
            "tags": [],
            "needs_background": "light"
          }
        }
      ]
    },
    {
      "cell_type": "markdown",
      "metadata": {
        "id": "7KrAmLMldsBf",
        "colab_type": "text"
      },
      "source": [
        "**Exercise** Based on the elbow method, what is the optimal choice of $k$? Does the elbow method work?"
      ]
    },
    {
      "cell_type": "markdown",
      "metadata": {
        "id": "ZJUbwLFoXooa",
        "colab_type": "text"
      },
      "source": [
        "**Exercise** Generate a dendrogram of the iris2D dataset by following the documentation [plot agglomerative dendrogram](https://scikit-learn.org/stable/auto_examples/cluster/plot_agglomerative_dendrogram.html) and [dendrogram](https://docs.scipy.org/doc/scipy/reference/generated/scipy.cluster.hierarchy.dendrogram.html#scipy.cluster.hierarchy.dendrogram)."
      ]
    }
  ]
}