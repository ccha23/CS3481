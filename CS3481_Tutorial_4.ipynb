{
  "nbformat": 4,
  "nbformat_minor": 0,
  "metadata": {
    "colab": {
      "name": "CS3481 Tutorial 4",
      "provenance": [],
      "toc_visible": true
    },
    "kernelspec": {
      "name": "python3",
      "display_name": "Python 3"
    }
  },
  "cells": [
    {
      "cell_type": "markdown",
      "metadata": {
        "id": "E3AzlVAZkPCo",
        "colab_type": "text"
      },
      "source": [
        "# Tutorial 4\n",
        "\n",
        "**CS3481 Fundamentals of Data Science**\n",
        "\n",
        "*Semester B 2019/20*\n",
        "___\n",
        "**Instructions:**\n",
        "- same as [Tutorial 1](http://bit.ly/CS3481T1).\n",
        "- submit your answers of through [uReply](https://cityu.ed2.mobi/student/mobile_index.php) section number **LM824**. \n",
        "___"
      ]
    },
    {
      "cell_type": "markdown",
      "metadata": {
        "id": "-tEsb8F0sFdP",
        "colab_type": "text"
      },
      "source": [
        "## Exercise 1 (submit via Canvas discussion page)"
      ]
    },
    {
      "cell_type": "markdown",
      "metadata": {
        "id": "uUvnfEVXtGp1",
        "colab_type": "text"
      },
      "source": [
        "(a) Complete the tutorial exercises in Section~17.3 of [[Witten11]](https://ebookcentral.proquest.com/lib/cityuhk/reader.action?docID=634862&ppg=606) in **Classification Boundaries** (**Visualizing Nearest Neighbor Learning**) from **Ex 17.3.5** to **17.3.6**.\n"
      ]
    },
    {
      "cell_type": "markdown",
      "metadata": {
        "colab_type": "text",
        "id": "d-_JalG3zsUt"
      },
      "source": [
        "\n",
        "___\n",
        "**Answers to 17.3.5:** \n",
        "\n",
        "**Answers to 17.3.6:** \n",
        "___\n"
      ]
    },
    {
      "cell_type": "markdown",
      "metadata": {
        "colab_type": "text",
        "id": "2o24awt_0JNG"
      },
      "source": [
        "(b) For this question, complete the tutorial exercises in [[Witten11]](https://ebookcentral.proquest.com/lib/cityuhk/reader.action?docID=634862&ppg=603) in **Class Noise and Nearest Neighbor Learning** from **Ex 17.2.6** to **17.2.8**.\n"
      ]
    },
    {
      "cell_type": "markdown",
      "metadata": {
        "colab_type": "text",
        "id": "EmDLl-vL0JNH"
      },
      "source": [
        "\n",
        "___\n",
        "**Answers to 17.2.6 (no submission required):**\n",
        "\n",
        "|Percentage Noise| k = 1| k = 3| k = 5|\n",
        "|----------------|------|------|------|\n",
        "|0%||||\n",
        "|10%||||\n",
        "|20%||||\n",
        "|30%||||\n",
        "|40%||||\n",
        "|50%||||\n",
        "|60%||||\n",
        "|70%||||\n",
        "|80%||||\n",
        "|90%||||\n",
        "|100%||||\n",
        "\n",
        "**Answers to 17.2.7:** \n",
        "\n",
        "**Answers to 17.2.8:** \n",
        "___\n"
      ]
    },
    {
      "cell_type": "markdown",
      "metadata": {
        "colab_type": "text",
        "id": "LMPOs44OL-Nd"
      },
      "source": [
        "## Exercise 2 (no submission required)\n",
        "\n",
        "[[Han11]](https://www.sciencedirect.com/science/article/pii/B9780123814791000034#s0175) **Question 3.6**: Use these methods to normalize the following group of data:\n",
        "\n",
        "> 200, 300, 400, 600, 1000\n",
        "\n"
      ]
    },
    {
      "cell_type": "markdown",
      "metadata": {
        "colab_type": "text",
        "id": "tVOEot2wL9on"
      },
      "source": [
        "(a) min-max normalization by setting $\\min = 0$ and $\\max = 1$.\n"
      ]
    },
    {
      "cell_type": "markdown",
      "metadata": {
        "colab_type": "text",
        "id": "hpdwtEjdL9KE"
      },
      "source": [
        "___\n",
        "Answer:\n",
        "\n",
        "___"
      ]
    },
    {
      "cell_type": "markdown",
      "metadata": {
        "colab_type": "text",
        "id": "MyC08WQeL8cp"
      },
      "source": [
        "(b) z-score normalization."
      ]
    },
    {
      "cell_type": "markdown",
      "metadata": {
        "colab_type": "text",
        "id": "y4wTta9FL8DB"
      },
      "source": [
        "___\n",
        "Answer:\n",
        "\n",
        "___"
      ]
    },
    {
      "cell_type": "markdown",
      "metadata": {
        "colab_type": "text",
        "id": "x_B_kTPFL7mX"
      },
      "source": [
        "(c) z-score normalization using the mean absolute deviation instead of standard deviation."
      ]
    },
    {
      "cell_type": "markdown",
      "metadata": {
        "colab_type": "text",
        "id": "sCtDxW_TL6LB"
      },
      "source": [
        "___\n",
        "Answer:\n",
        "\n",
        "___"
      ]
    },
    {
      "cell_type": "markdown",
      "metadata": {
        "id": "w5J9m01uzKtv",
        "colab_type": "text"
      },
      "source": [
        "(d) normalization by decimal scaling."
      ]
    },
    {
      "cell_type": "markdown",
      "metadata": {
        "id": "q4aKfblU51wl",
        "colab_type": "text"
      },
      "source": [
        "___\n",
        "Answer:\n",
        "\n",
        "___"
      ]
    },
    {
      "cell_type": "markdown",
      "metadata": {
        "id": "kuXs0fjsynbl",
        "colab_type": "text"
      },
      "source": [
        "[[Han11]](https://www.sciencedirect.com/science/article/pii/B9780123814791000095#s0145) **Question 9.4**: Compare the advantages and disadvantages of eager classification (e.g., decision tree, Bayesian, neural network) versus lazy classification (e.g., k-nearest neighbor, case-based reasoning)."
      ]
    },
    {
      "cell_type": "markdown",
      "metadata": {
        "colab_type": "text",
        "id": "Y4XLToJwzGNA"
      },
      "source": [
        "___\n",
        "Answer:\n",
        "\n",
        "___"
      ]
    },
    {
      "cell_type": "markdown",
      "metadata": {
        "id": "iUx5dPQDlqIo",
        "colab_type": "text"
      },
      "source": [
        "## Exercise 3 (Optional)"
      ]
    },
    {
      "cell_type": "markdown",
      "metadata": {
        "id": "h172BCrhwuUC",
        "colab_type": "text"
      },
      "source": [
        "Generate the iris 2D data set from `sklearn.datasets` package. Assign the input features (with indices 0 and 2) and target to `X` and `Y` respectively."
      ]
    },
    {
      "cell_type": "code",
      "metadata": {
        "id": "9gQINfrjsb4M",
        "colab_type": "code",
        "outputId": "82bd55cd-02b1-40f0-ed5b-900d2b62087e",
        "colab": {
          "base_uri": "https://localhost:8080/",
          "height": 33
        }
      },
      "source": [
        "from sklearn import datasets\n",
        "\n",
        "iris = datasets.load_iris()\n",
        "X = iris['data'][:,[0,2]]\n",
        "Y = iris['target']\n",
        "\n",
        "X.shape, Y.shape # show the dimensions of the input features and target"
      ],
      "execution_count": 4,
      "outputs": [
        {
          "output_type": "execute_result",
          "data": {
            "text/plain": [
              "((150, 2), (150,))"
            ]
          },
          "metadata": {
            "tags": []
          },
          "execution_count": 4
        }
      ]
    },
    {
      "cell_type": "markdown",
      "metadata": {
        "id": "JeK6a6aHZ07k",
        "colab_type": "text"
      },
      "source": [
        "Create the [nearest neighbor classifier](https://scikit-learn.org/stable/auto_examples/neighbors/plot_classification.html#sphx-glr-auto-examples-neighbors-plot-classification-py)."
      ]
    },
    {
      "cell_type": "code",
      "metadata": {
        "id": "Kq8sruV8U7ra",
        "colab_type": "code",
        "colab": {
          "base_uri": "https://localhost:8080/",
          "height": 67
        },
        "outputId": "0204778a-96c1-412e-a1c5-e715c98e820f"
      },
      "source": [
        "from sklearn import neighbors\n",
        "\n",
        "clf = neighbors.KNeighborsClassifier(n_neighbors=1)\n",
        "clf.fit(X, Y)"
      ],
      "execution_count": 5,
      "outputs": [
        {
          "output_type": "execute_result",
          "data": {
            "text/plain": [
              "KNeighborsClassifier(algorithm='auto', leaf_size=30, metric='minkowski',\n",
              "                     metric_params=None, n_jobs=None, n_neighbors=1, p=2,\n",
              "                     weights='uniform')"
            ]
          },
          "metadata": {
            "tags": []
          },
          "execution_count": 5
        }
      ]
    },
    {
      "cell_type": "markdown",
      "metadata": {
        "id": "V1oPyAfFaBrB",
        "colab_type": "text"
      },
      "source": [
        "Plot the decision region using the [`mlxtend`](http://rasbt.github.io/mlxtend/user_guide/plotting/plot_decision_regions/) package."
      ]
    },
    {
      "cell_type": "code",
      "metadata": {
        "id": "4NT76hh2VOMS",
        "colab_type": "code",
        "colab": {}
      },
      "source": [
        "from mlxtend.plotting import plot_decision_regions\n",
        "import matplotlib.pyplot as plt"
      ],
      "execution_count": 0,
      "outputs": []
    },
    {
      "cell_type": "code",
      "metadata": {
        "id": "Vj2I4ntYXZTS",
        "colab_type": "code",
        "colab": {
          "base_uri": "https://localhost:8080/",
          "height": 312
        },
        "outputId": "5e865758-3cc7-4e5b-bcfb-907ae9e034ee"
      },
      "source": [
        "plot_decision_regions(X, Y, clf=clf, legend=2)\n",
        "\n",
        "plt.xlabel(iris.feature_names[0])\n",
        "plt.ylabel(iris.feature_names[2])\n",
        "plt.title('NN on Iris')\n"
      ],
      "execution_count": 8,
      "outputs": [
        {
          "output_type": "execute_result",
          "data": {
            "text/plain": [
              "Text(0.5, 1.0, 'NN on Iris')"
            ]
          },
          "metadata": {
            "tags": []
          },
          "execution_count": 8
        },
        {
          "output_type": "display_data",
          "data": {
            "image/png": "[encoded data removed]",
            "text/plain": [
              "<Figure size 432x288 with 1 Axes>"
            ]
          },
          "metadata": {
            "tags": []
          }
        }
      ]
    },
    {
      "cell_type": "markdown",
      "metadata": {
        "id": "BG1JZ9CDaopx",
        "colab_type": "text"
      },
      "source": [
        "Plot the decision region for a better choice of `n_neighbors`. Give a better choice of the parameter `weight` as well."
      ]
    }
  ]
}