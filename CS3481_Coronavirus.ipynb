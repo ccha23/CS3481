{
  "nbformat": 4,
  "nbformat_minor": 0,
  "metadata": {
    "colab": {
      "name": "CS3481 Coronavirus",
      "provenance": [],
      "collapsed_sections": []
    },
    "kernelspec": {
      "name": "python3",
      "display_name": "Python 3"
    }
  },
  "cells": [
    {
      "cell_type": "markdown",
      "metadata": {
        "id": "E3AzlVAZkPCo",
        "colab_type": "text"
      },
      "source": [
        "# The Novel Corona Virus\n",
        "\n",
        "**CS3481 Fundamentals of Data Science**\n",
        "\n",
        "*Semester B 2019/20*\n",
        "___\n",
        "**Description:**\n",
        "This notebook show how the tools in AI and data science are currently used to track the disease outbreak. This notebook is editable, so feel free to add other related references to the list.\n",
        "___"
      ]
    },
    {
      "cell_type": "code",
      "metadata": {
        "id": "gvjVdH3MsLKi",
        "colab_type": "code",
        "colab": {}
      },
      "source": [
        ""
      ],
      "execution_count": 0,
      "outputs": []
    },
    {
      "cell_type": "markdown",
      "metadata": {
        "id": "dQa-ErEsxgQp",
        "colab_type": "text"
      },
      "source": [
        "## Dashboards"
      ]
    },
    {
      "cell_type": "markdown",
      "metadata": {
        "id": "pcXO8FfExxK_",
        "colab_type": "text"
      },
      "source": [
        "A summary of the current status of the disease by Johns Hopkins University."
      ]
    },
    {
      "cell_type": "code",
      "metadata": {
        "id": "YP-DIwcviEC9",
        "colab_type": "code",
        "outputId": "380dd699-b306-4c18-8397-fe3bcdf9a989",
        "colab": {
          "base_uri": "https://localhost:8080/",
          "height": 825
        }
      },
      "source": [
        "%%html\n",
        "<iframe src=\"https://gisanddata.maps.arcgis.com/apps/opsdashboard/index.html#/bda7594740fd40299423467b48e9ecf6\" width=\"80%\" height=\"800\"></iframe>"
      ],
      "execution_count": 0,
      "outputs": [
        {
          "output_type": "display_data",
          "data": {
            "text/html": [
              "<iframe src=\"https://gisanddata.maps.arcgis.com/apps/opsdashboard/index.html#/bda7594740fd40299423467b48e9ecf6\" width=\"80%\" height=\"800\"></iframe>"
            ],
            "text/plain": [
              "<IPython.core.display.HTML object>"
            ]
          },
          "metadata": {
            "tags": []
          }
        }
      ]
    },
    {
      "cell_type": "markdown",
      "metadata": {
        "id": "JRlwOoWJyXJO",
        "colab_type": "text"
      },
      "source": [
        "A public health surveilence site operated by John Brownstein at Boston Children’s Hospital. It uses AI to analyze data from government reports, social media, news sites, and other sources."
      ]
    },
    {
      "cell_type": "code",
      "metadata": {
        "id": "bqVP9eAujRHb",
        "colab_type": "code",
        "outputId": "6a0a5c5d-e1b3-4eef-cba9-417dcdea1f98",
        "colab": {
          "base_uri": "https://localhost:8080/",
          "height": 825
        }
      },
      "source": [
        "%%html\n",
        "<iframe src=\"https://www.healthmap.org/wuhan/\" width=\"80%\" height=\"800\"></iframe>"
      ],
      "execution_count": 0,
      "outputs": [
        {
          "output_type": "display_data",
          "data": {
            "text/html": [
              "<iframe src=\"https://www.healthmap.org/wuhan/\" width=\"80%\" height=\"800\"></iframe>"
            ],
            "text/plain": [
              "<IPython.core.display.HTML object>"
            ]
          },
          "metadata": {
            "tags": []
          }
        }
      ]
    },
    {
      "cell_type": "markdown",
      "metadata": {
        "id": "bqm57p5lm308",
        "colab_type": "text"
      },
      "source": [
        "## References"
      ]
    },
    {
      "cell_type": "markdown",
      "metadata": {
        "id": "M8_x-qjdm7NR",
        "colab_type": "text"
      },
      "source": [
        "[\"In Coronavirus Response, AI is Becoming a Useful Tool in a Global Outbreak.\"](https://www.predictiveanalyticsworld.com/machinelearningtimes/in-coronavirus-response-ai-is-becoming-a-useful-tool-in-a-global-outbreak/10867/) An article discussing the role of AI in tracking the disease."
      ]
    },
    {
      "cell_type": "markdown",
      "metadata": {
        "id": "Fwi8iq4MlzgX",
        "colab_type": "text"
      },
      "source": [
        "[\"Coronavirus outbreak: what’s next?\"](https://www.nature.com/articles/d41586-020-00236-9) A summary of some predictions on the disease outbreak."
      ]
    },
    {
      "cell_type": "markdown",
      "metadata": {
        "id": "aQX55CyFphiW",
        "colab_type": "text"
      },
      "source": [
        "[\"Build A Dashboard To Track The Spread of Coronavirus Using Dash.\"](https://towardsdatascience.com/build-a-dashboard-to-track-the-spread-of-coronavirus-using-dash-90364f016764) An article that demonstrates how to visualize the disease data."
      ]
    },
    {
      "cell_type": "markdown",
      "metadata": {
        "id": "jsYDH6aw1FVR",
        "colab_type": "text"
      },
      "source": [
        "[\"Wuhan Coronavirus : A geographical analysis.\"](https://www.kaggle.com/parulpandey/wuhan-coronavirus-a-geographical-analysis) A Jupyter Notebook analyzing the disease outbreak."
      ]
    },
    {
      "cell_type": "markdown",
      "metadata": {
        "id": "fD1RBpk419h6",
        "colab_type": "text"
      },
      "source": [
        "[\"Coronavirus from Worldmeter.\"](https://www.worldometers.info/coronavirus/) A dashboard for the disease outbreak with statistics on the transmission rate, fatality rate, and incubation period. See the [FAQ page](https://www.worldometers.info/faq/) regarding the accuracy of the statistics."
      ]
    },
    {
      "cell_type": "markdown",
      "metadata": {
        "id": "_arbVt393QWi",
        "colab_type": "text"
      },
      "source": [
        "[\"Severe Respiratory Disease associated with a Novel Infectious Agent.\"](https://www.chp.gov.hk/en/features/102465.html) More detailed information of the disease in Hong Kong provided by the Centre of Health Protection. (See also the [dashboard](https://chp-dashboard.geodata.gov.hk/nia/en.html).)"
      ]
    }
  ]
}